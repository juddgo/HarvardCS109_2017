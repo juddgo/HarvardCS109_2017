{
 "cells": [
  {
   "cell_type": "markdown",
   "metadata": {},
   "source": [
    "# CS 109A/STAT 121A/AC 209A/CSCI E-109A\n",
    "\n",
    "## Standard Section 3: Prediction using kNN and Regression Methods\n",
    "\n",
    "**Harvard University**<br/>\n",
    "**Fall 2017**<br/>\n",
    "**Section Leaders: Nathaniel Burbank, Albert Wu, Matthew Holman <br/>**\n",
    "**Instructors: Pavlos Protopapas, Kevin Rader, Rahul Dave, Margo Levine** "
   ]
  },
  {
   "cell_type": "markdown",
   "metadata": {},
   "source": [
    "<center>**Download this notebook from the CS109 repo.**</center>\n",
    "\n",
    "For this section, our goal is to get you familiarized with k-Nearest Neighbors, Linear, and Polynomial Regression. These methods find powerful applications in all walks of life and are centered around prediction. \n",
    "\n",
    "\n",
    "Specifically, we will: \n",
    "    \n",
    "    1. Review some data selection basics\n",
    "    2. Load in the iris dataset which is split into a training and testing dataset\n",
    "    3. Do some basic exploratory analysis of the dataset and go through a scatterplot\n",
    "    4. Write out the algorithm for kNN WITHOUT using the sklearn package\n",
    "    5. Use the sklearn package to implement kNN and compare to the one we did by hand\n",
    "    6. Extend the sklearn package to linear and polynomial regression "
   ]
  },
  {
   "cell_type": "markdown",
   "metadata": {},
   "source": [
    "For this section we will be using the following packages:"
   ]
  },
  {
   "cell_type": "code",
   "execution_count": 1,
   "metadata": {
    "collapsed": false
   },
   "outputs": [
    {
     "name": "stderr",
     "output_type": "stream",
     "text": [
      "/usr/local/lib/python3.6/site-packages/matplotlib/__init__.py:913: UserWarning: axes.color_cycle is deprecated and replaced with axes.prop_cycle; please use the latter.\n",
      "  warnings.warn(self.msg_depr % (key, alt_key))\n"
     ]
    }
   ],
   "source": [
    "import sys\n",
    "import numpy as np\n",
    "import pandas as pd\n",
    "pd.set_option('display.max_rows', 999)\n",
    "pd.set_option('display.width', 500)\n",
    "pd.set_option('display.notebook_repr_html', True)\n",
    "import matplotlib\n",
    "import matplotlib.pyplot as plt\n",
    "import seaborn as sns\n",
    "\n",
    "from sklearn.neighbors import KNeighborsClassifier\n",
    "from sklearn.model_selection import train_test_split\n",
    "# Note --  Requires sklearn version .18 or higher  \n",
    "from sklearn import metrics, datasets\n",
    "from collections import Counter\n",
    "import statsmodels.api as sm\n",
    "from statsmodels.api import OLS\n",
    "from sklearn.preprocessing import PolynomialFeatures\n",
    "from sklearn.linear_model import LinearRegression\n",
    "%matplotlib inline\n",
    "\n",
    "assert(sys.version_info.major==3),print(sys.version)\n",
    "# Python 3 or higher is required"
   ]
  },
  {
   "cell_type": "markdown",
   "metadata": {},
   "source": [
    "## Review – Python list comprehensions "
   ]
  },
  {
   "cell_type": "code",
   "execution_count": 2,
   "metadata": {
    "collapsed": false
   },
   "outputs": [
    {
     "data": {
      "text/plain": [
       "[0, 2, 4, 6, 8, 10, 12, 14, 16, 18]"
      ]
     },
     "execution_count": 2,
     "metadata": {},
     "output_type": "execute_result"
    }
   ],
   "source": [
    "# Makes a list of all the even numbers from 0 to 20 \n",
    "# with a for loop\n",
    "l = []\n",
    "for i in range(20):\n",
    "    if i%2 ==0:\n",
    "        l.append(i)\n",
    "l"
   ]
  },
  {
   "cell_type": "markdown",
   "metadata": {},
   "source": [
    "### Makes a list of even numbers from 0 to 20 using a python list comprehension "
   ]
  },
  {
   "cell_type": "code",
   "execution_count": 3,
   "metadata": {
    "collapsed": false
   },
   "outputs": [
    {
     "data": {
      "text/plain": [
       "[0, 2, 4, 6, 8, 10, 12, 14, 16, 18]"
      ]
     },
     "execution_count": 3,
     "metadata": {},
     "output_type": "execute_result"
    }
   ],
   "source": [
    "[i for i in range(20) if i%2 ==0]"
   ]
  },
  {
   "cell_type": "markdown",
   "metadata": {},
   "source": [
    "## Selecting by assigned index vs integer position "
   ]
  },
  {
   "cell_type": "code",
   "execution_count": 4,
   "metadata": {
    "collapsed": false
   },
   "outputs": [
    {
     "data": {
      "text/html": [
       "<div>\n",
       "<table border=\"1\" class=\"dataframe\">\n",
       "  <thead>\n",
       "    <tr style=\"text-align: right;\">\n",
       "      <th></th>\n",
       "      <th>1790</th>\n",
       "      <th>1800</th>\n",
       "      <th>1810</th>\n",
       "      <th>1820</th>\n",
       "      <th>1830</th>\n",
       "      <th>1840</th>\n",
       "      <th>1850</th>\n",
       "      <th>1860</th>\n",
       "      <th>1870</th>\n",
       "      <th>1880</th>\n",
       "      <th>...</th>\n",
       "      <th>1920</th>\n",
       "      <th>1930</th>\n",
       "      <th>1940</th>\n",
       "      <th>1950</th>\n",
       "      <th>1960</th>\n",
       "      <th>1970</th>\n",
       "      <th>1980</th>\n",
       "      <th>1990</th>\n",
       "      <th>2000</th>\n",
       "      <th>2010</th>\n",
       "    </tr>\n",
       "  </thead>\n",
       "  <tbody>\n",
       "    <tr>\n",
       "      <th>Alabama</th>\n",
       "      <td>0</td>\n",
       "      <td>1250</td>\n",
       "      <td>9046</td>\n",
       "      <td>127901</td>\n",
       "      <td>309527</td>\n",
       "      <td>590756</td>\n",
       "      <td>771623</td>\n",
       "      <td>964201</td>\n",
       "      <td>996992</td>\n",
       "      <td>1262505</td>\n",
       "      <td>...</td>\n",
       "      <td>2348174</td>\n",
       "      <td>2646248</td>\n",
       "      <td>2832961</td>\n",
       "      <td>3061743</td>\n",
       "      <td>3266740</td>\n",
       "      <td>3444165</td>\n",
       "      <td>3893888</td>\n",
       "      <td>4040587</td>\n",
       "      <td>4447100</td>\n",
       "      <td>4779736</td>\n",
       "    </tr>\n",
       "    <tr>\n",
       "      <th>Alaska</th>\n",
       "      <td>0</td>\n",
       "      <td>0</td>\n",
       "      <td>0</td>\n",
       "      <td>0</td>\n",
       "      <td>0</td>\n",
       "      <td>0</td>\n",
       "      <td>0</td>\n",
       "      <td>0</td>\n",
       "      <td>0</td>\n",
       "      <td>0</td>\n",
       "      <td>...</td>\n",
       "      <td>55036</td>\n",
       "      <td>59278</td>\n",
       "      <td>72524</td>\n",
       "      <td>128643</td>\n",
       "      <td>226167</td>\n",
       "      <td>300382</td>\n",
       "      <td>401851</td>\n",
       "      <td>550043</td>\n",
       "      <td>626932</td>\n",
       "      <td>710231</td>\n",
       "    </tr>\n",
       "    <tr>\n",
       "      <th>Arizona</th>\n",
       "      <td>0</td>\n",
       "      <td>0</td>\n",
       "      <td>0</td>\n",
       "      <td>0</td>\n",
       "      <td>0</td>\n",
       "      <td>0</td>\n",
       "      <td>0</td>\n",
       "      <td>0</td>\n",
       "      <td>9658</td>\n",
       "      <td>40440</td>\n",
       "      <td>...</td>\n",
       "      <td>334162</td>\n",
       "      <td>435573</td>\n",
       "      <td>499261</td>\n",
       "      <td>749587</td>\n",
       "      <td>1302161</td>\n",
       "      <td>1770900</td>\n",
       "      <td>2718215</td>\n",
       "      <td>3665228</td>\n",
       "      <td>5130632</td>\n",
       "      <td>6392017</td>\n",
       "    </tr>\n",
       "    <tr>\n",
       "      <th>Arkansas</th>\n",
       "      <td>0</td>\n",
       "      <td>0</td>\n",
       "      <td>1062</td>\n",
       "      <td>14273</td>\n",
       "      <td>30388</td>\n",
       "      <td>97574</td>\n",
       "      <td>209897</td>\n",
       "      <td>435450</td>\n",
       "      <td>484471</td>\n",
       "      <td>802525</td>\n",
       "      <td>...</td>\n",
       "      <td>1752204</td>\n",
       "      <td>1854482</td>\n",
       "      <td>1949387</td>\n",
       "      <td>1909511</td>\n",
       "      <td>1786272</td>\n",
       "      <td>1923295</td>\n",
       "      <td>2286435</td>\n",
       "      <td>2350725</td>\n",
       "      <td>2673400</td>\n",
       "      <td>2915918</td>\n",
       "    </tr>\n",
       "    <tr>\n",
       "      <th>California</th>\n",
       "      <td>0</td>\n",
       "      <td>0</td>\n",
       "      <td>0</td>\n",
       "      <td>0</td>\n",
       "      <td>0</td>\n",
       "      <td>0</td>\n",
       "      <td>92597</td>\n",
       "      <td>379994</td>\n",
       "      <td>560247</td>\n",
       "      <td>864694</td>\n",
       "      <td>...</td>\n",
       "      <td>3426861</td>\n",
       "      <td>5677251</td>\n",
       "      <td>6907387</td>\n",
       "      <td>10586223</td>\n",
       "      <td>15717204</td>\n",
       "      <td>19953134</td>\n",
       "      <td>23667902</td>\n",
       "      <td>29760021</td>\n",
       "      <td>33871648</td>\n",
       "      <td>37253956</td>\n",
       "    </tr>\n",
       "  </tbody>\n",
       "</table>\n",
       "<p>5 rows × 23 columns</p>\n",
       "</div>"
      ],
      "text/plain": [
       "            1790  1800  1810    1820    1830    1840    1850    1860    1870     1880    ...        1920     1930     1940      1950      1960      1970      1980      1990      2000      2010\n",
       "Alabama        0  1250  9046  127901  309527  590756  771623  964201  996992  1262505    ...     2348174  2646248  2832961   3061743   3266740   3444165   3893888   4040587   4447100   4779736\n",
       "Alaska         0     0     0       0       0       0       0       0       0        0    ...       55036    59278    72524    128643    226167    300382    401851    550043    626932    710231\n",
       "Arizona        0     0     0       0       0       0       0       0    9658    40440    ...      334162   435573   499261    749587   1302161   1770900   2718215   3665228   5130632   6392017\n",
       "Arkansas       0     0  1062   14273   30388   97574  209897  435450  484471   802525    ...     1752204  1854482  1949387   1909511   1786272   1923295   2286435   2350725   2673400   2915918\n",
       "California     0     0     0       0       0       0   92597  379994  560247   864694    ...     3426861  5677251  6907387  10586223  15717204  19953134  23667902  29760021  33871648  37253956\n",
       "\n",
       "[5 rows x 23 columns]"
      ]
     },
     "execution_count": 4,
     "metadata": {},
     "output_type": "execute_result"
    }
   ],
   "source": [
    "data_url = 'https://raw.githubusercontent.com/nathanielburbank/CS109/master/data/states.csv'\n",
    "states = pd.read_csv(data_url,index_col=0)\n",
    "states.head()"
   ]
  },
  {
   "cell_type": "markdown",
   "metadata": {},
   "source": [
    "### Select just the columns from 1930 to 1960 "
   ]
  },
  {
   "cell_type": "code",
   "execution_count": 5,
   "metadata": {
    "collapsed": false
   },
   "outputs": [
    {
     "data": {
      "text/html": [
       "<div>\n",
       "<table border=\"1\" class=\"dataframe\">\n",
       "  <thead>\n",
       "    <tr style=\"text-align: right;\">\n",
       "      <th></th>\n",
       "      <th>1930</th>\n",
       "      <th>1940</th>\n",
       "      <th>1950</th>\n",
       "      <th>1960</th>\n",
       "    </tr>\n",
       "  </thead>\n",
       "  <tbody>\n",
       "    <tr>\n",
       "      <th>Alabama</th>\n",
       "      <td>2646248</td>\n",
       "      <td>2832961</td>\n",
       "      <td>3061743</td>\n",
       "      <td>3266740</td>\n",
       "    </tr>\n",
       "    <tr>\n",
       "      <th>Alaska</th>\n",
       "      <td>59278</td>\n",
       "      <td>72524</td>\n",
       "      <td>128643</td>\n",
       "      <td>226167</td>\n",
       "    </tr>\n",
       "    <tr>\n",
       "      <th>Arizona</th>\n",
       "      <td>435573</td>\n",
       "      <td>499261</td>\n",
       "      <td>749587</td>\n",
       "      <td>1302161</td>\n",
       "    </tr>\n",
       "    <tr>\n",
       "      <th>Arkansas</th>\n",
       "      <td>1854482</td>\n",
       "      <td>1949387</td>\n",
       "      <td>1909511</td>\n",
       "      <td>1786272</td>\n",
       "    </tr>\n",
       "    <tr>\n",
       "      <th>California</th>\n",
       "      <td>5677251</td>\n",
       "      <td>6907387</td>\n",
       "      <td>10586223</td>\n",
       "      <td>15717204</td>\n",
       "    </tr>\n",
       "  </tbody>\n",
       "</table>\n",
       "</div>"
      ],
      "text/plain": [
       "               1930     1940      1950      1960\n",
       "Alabama     2646248  2832961   3061743   3266740\n",
       "Alaska        59278    72524    128643    226167\n",
       "Arizona      435573   499261    749587   1302161\n",
       "Arkansas    1854482  1949387   1909511   1786272\n",
       "California  5677251  6907387  10586223  15717204"
      ]
     },
     "execution_count": 5,
     "metadata": {},
     "output_type": "execute_result"
    }
   ],
   "source": [
    "states[['1930','1940','1950','1960']].head()"
   ]
  },
  {
   "cell_type": "markdown",
   "metadata": {},
   "source": [
    "### Select just New York, New Jersey, and Connecticut "
   ]
  },
  {
   "cell_type": "code",
   "execution_count": 6,
   "metadata": {
    "collapsed": false
   },
   "outputs": [
    {
     "data": {
      "text/html": [
       "<div>\n",
       "<table border=\"1\" class=\"dataframe\">\n",
       "  <thead>\n",
       "    <tr style=\"text-align: right;\">\n",
       "      <th></th>\n",
       "      <th>1790</th>\n",
       "      <th>1800</th>\n",
       "      <th>1810</th>\n",
       "      <th>1820</th>\n",
       "      <th>1830</th>\n",
       "      <th>1840</th>\n",
       "      <th>1850</th>\n",
       "      <th>1860</th>\n",
       "      <th>1870</th>\n",
       "      <th>1880</th>\n",
       "      <th>...</th>\n",
       "      <th>1920</th>\n",
       "      <th>1930</th>\n",
       "      <th>1940</th>\n",
       "      <th>1950</th>\n",
       "      <th>1960</th>\n",
       "      <th>1970</th>\n",
       "      <th>1980</th>\n",
       "      <th>1990</th>\n",
       "      <th>2000</th>\n",
       "      <th>2010</th>\n",
       "    </tr>\n",
       "  </thead>\n",
       "  <tbody>\n",
       "    <tr>\n",
       "      <th>New York</th>\n",
       "      <td>340120</td>\n",
       "      <td>586050</td>\n",
       "      <td>959049</td>\n",
       "      <td>1372812</td>\n",
       "      <td>1918608</td>\n",
       "      <td>2428921</td>\n",
       "      <td>3097394</td>\n",
       "      <td>3880735</td>\n",
       "      <td>4382759</td>\n",
       "      <td>5082871</td>\n",
       "      <td>...</td>\n",
       "      <td>10385227</td>\n",
       "      <td>12588066</td>\n",
       "      <td>13479142</td>\n",
       "      <td>14830192</td>\n",
       "      <td>16782304</td>\n",
       "      <td>18236967</td>\n",
       "      <td>17558072</td>\n",
       "      <td>17990455</td>\n",
       "      <td>18976457</td>\n",
       "      <td>19378102</td>\n",
       "    </tr>\n",
       "    <tr>\n",
       "      <th>New Jersey</th>\n",
       "      <td>184139</td>\n",
       "      <td>211149</td>\n",
       "      <td>245555</td>\n",
       "      <td>277575</td>\n",
       "      <td>320823</td>\n",
       "      <td>373306</td>\n",
       "      <td>489555</td>\n",
       "      <td>672035</td>\n",
       "      <td>906096</td>\n",
       "      <td>1131116</td>\n",
       "      <td>...</td>\n",
       "      <td>3155900</td>\n",
       "      <td>4041334</td>\n",
       "      <td>4160165</td>\n",
       "      <td>4835329</td>\n",
       "      <td>6066782</td>\n",
       "      <td>7168164</td>\n",
       "      <td>7364823</td>\n",
       "      <td>7730188</td>\n",
       "      <td>8414350</td>\n",
       "      <td>8791894</td>\n",
       "    </tr>\n",
       "    <tr>\n",
       "      <th>Connecticut</th>\n",
       "      <td>237946</td>\n",
       "      <td>251002</td>\n",
       "      <td>262042</td>\n",
       "      <td>275202</td>\n",
       "      <td>297675</td>\n",
       "      <td>309978</td>\n",
       "      <td>370792</td>\n",
       "      <td>460147</td>\n",
       "      <td>537454</td>\n",
       "      <td>622700</td>\n",
       "      <td>...</td>\n",
       "      <td>1380631</td>\n",
       "      <td>1606903</td>\n",
       "      <td>1709242</td>\n",
       "      <td>2007280</td>\n",
       "      <td>2535234</td>\n",
       "      <td>3031709</td>\n",
       "      <td>3107576</td>\n",
       "      <td>3287116</td>\n",
       "      <td>3405565</td>\n",
       "      <td>3574097</td>\n",
       "    </tr>\n",
       "  </tbody>\n",
       "</table>\n",
       "<p>3 rows × 23 columns</p>\n",
       "</div>"
      ],
      "text/plain": [
       "               1790    1800    1810     1820     1830     1840     1850     1860     1870     1880    ...         1920      1930      1940      1950      1960      1970      1980      1990      2000      2010\n",
       "New York     340120  586050  959049  1372812  1918608  2428921  3097394  3880735  4382759  5082871    ...     10385227  12588066  13479142  14830192  16782304  18236967  17558072  17990455  18976457  19378102\n",
       "New Jersey   184139  211149  245555   277575   320823   373306   489555   672035   906096  1131116    ...      3155900   4041334   4160165   4835329   6066782   7168164   7364823   7730188   8414350   8791894\n",
       "Connecticut  237946  251002  262042   275202   297675   309978   370792   460147   537454   622700    ...      1380631   1606903   1709242   2007280   2535234   3031709   3107576   3287116   3405565   3574097\n",
       "\n",
       "[3 rows x 23 columns]"
      ]
     },
     "execution_count": 6,
     "metadata": {},
     "output_type": "execute_result"
    }
   ],
   "source": [
    "tristate = ['New York','New Jersey','Connecticut']\n",
    "states.loc[tristate]"
   ]
  },
  {
   "cell_type": "markdown",
   "metadata": {},
   "source": [
    "### Select just New York, New Jersey, and Connecticut from 1930 to 1970 "
   ]
  },
  {
   "cell_type": "code",
   "execution_count": 7,
   "metadata": {
    "collapsed": false
   },
   "outputs": [
    {
     "data": {
      "text/html": [
       "<div>\n",
       "<table border=\"1\" class=\"dataframe\">\n",
       "  <thead>\n",
       "    <tr style=\"text-align: right;\">\n",
       "      <th></th>\n",
       "      <th>1930</th>\n",
       "      <th>1940</th>\n",
       "      <th>1950</th>\n",
       "      <th>1960</th>\n",
       "    </tr>\n",
       "  </thead>\n",
       "  <tbody>\n",
       "    <tr>\n",
       "      <th>New York</th>\n",
       "      <td>12588066</td>\n",
       "      <td>13479142</td>\n",
       "      <td>14830192</td>\n",
       "      <td>16782304</td>\n",
       "    </tr>\n",
       "    <tr>\n",
       "      <th>New Jersey</th>\n",
       "      <td>4041334</td>\n",
       "      <td>4160165</td>\n",
       "      <td>4835329</td>\n",
       "      <td>6066782</td>\n",
       "    </tr>\n",
       "    <tr>\n",
       "      <th>Connecticut</th>\n",
       "      <td>1606903</td>\n",
       "      <td>1709242</td>\n",
       "      <td>2007280</td>\n",
       "      <td>2535234</td>\n",
       "    </tr>\n",
       "  </tbody>\n",
       "</table>\n",
       "</div>"
      ],
      "text/plain": [
       "                 1930      1940      1950      1960\n",
       "New York     12588066  13479142  14830192  16782304\n",
       "New Jersey    4041334   4160165   4835329   6066782\n",
       "Connecticut   1606903   1709242   2007280   2535234"
      ]
     },
     "execution_count": 7,
     "metadata": {},
     "output_type": "execute_result"
    }
   ],
   "source": [
    "states.loc[['New York','New Jersey','Connecticut'],['1930','1940','1950','1960']]"
   ]
  },
  {
   "cell_type": "markdown",
   "metadata": {},
   "source": [
    "### Select the states between Nevada and New York, from 1930 to 1960"
   ]
  },
  {
   "cell_type": "code",
   "execution_count": 8,
   "metadata": {
    "collapsed": false
   },
   "outputs": [
    {
     "data": {
      "text/html": [
       "<div>\n",
       "<table border=\"1\" class=\"dataframe\">\n",
       "  <thead>\n",
       "    <tr style=\"text-align: right;\">\n",
       "      <th></th>\n",
       "      <th>1930</th>\n",
       "      <th>1940</th>\n",
       "      <th>1950</th>\n",
       "      <th>1960</th>\n",
       "    </tr>\n",
       "  </thead>\n",
       "  <tbody>\n",
       "    <tr>\n",
       "      <th>Nevada</th>\n",
       "      <td>91058</td>\n",
       "      <td>110247</td>\n",
       "      <td>160083</td>\n",
       "      <td>285278</td>\n",
       "    </tr>\n",
       "    <tr>\n",
       "      <th>New Hampshire</th>\n",
       "      <td>465293</td>\n",
       "      <td>491524</td>\n",
       "      <td>533242</td>\n",
       "      <td>606921</td>\n",
       "    </tr>\n",
       "    <tr>\n",
       "      <th>New Jersey</th>\n",
       "      <td>4041334</td>\n",
       "      <td>4160165</td>\n",
       "      <td>4835329</td>\n",
       "      <td>6066782</td>\n",
       "    </tr>\n",
       "    <tr>\n",
       "      <th>New Mexico</th>\n",
       "      <td>423317</td>\n",
       "      <td>531818</td>\n",
       "      <td>681187</td>\n",
       "      <td>951023</td>\n",
       "    </tr>\n",
       "    <tr>\n",
       "      <th>New York</th>\n",
       "      <td>12588066</td>\n",
       "      <td>13479142</td>\n",
       "      <td>14830192</td>\n",
       "      <td>16782304</td>\n",
       "    </tr>\n",
       "  </tbody>\n",
       "</table>\n",
       "</div>"
      ],
      "text/plain": [
       "                   1930      1940      1950      1960\n",
       "Nevada            91058    110247    160083    285278\n",
       "New Hampshire    465293    491524    533242    606921\n",
       "New Jersey      4041334   4160165   4835329   6066782\n",
       "New Mexico       423317    531818    681187    951023\n",
       "New York       12588066  13479142  14830192  16782304"
      ]
     },
     "execution_count": 8,
     "metadata": {},
     "output_type": "execute_result"
    }
   ],
   "source": [
    "states.loc['Nevada':'New York','1930':'1960']"
   ]
  },
  {
   "cell_type": "markdown",
   "metadata": {},
   "source": [
    "### Select rows 10 to 15 *by positon*"
   ]
  },
  {
   "cell_type": "code",
   "execution_count": 9,
   "metadata": {
    "collapsed": false
   },
   "outputs": [
    {
     "data": {
      "text/html": [
       "<div>\n",
       "<table border=\"1\" class=\"dataframe\">\n",
       "  <thead>\n",
       "    <tr style=\"text-align: right;\">\n",
       "      <th></th>\n",
       "      <th>1790</th>\n",
       "      <th>1800</th>\n",
       "      <th>1810</th>\n",
       "      <th>1820</th>\n",
       "      <th>1830</th>\n",
       "      <th>1840</th>\n",
       "      <th>1850</th>\n",
       "      <th>1860</th>\n",
       "      <th>1870</th>\n",
       "      <th>1880</th>\n",
       "      <th>...</th>\n",
       "      <th>1920</th>\n",
       "      <th>1930</th>\n",
       "      <th>1940</th>\n",
       "      <th>1950</th>\n",
       "      <th>1960</th>\n",
       "      <th>1970</th>\n",
       "      <th>1980</th>\n",
       "      <th>1990</th>\n",
       "      <th>2000</th>\n",
       "      <th>2010</th>\n",
       "    </tr>\n",
       "  </thead>\n",
       "  <tbody>\n",
       "    <tr>\n",
       "      <th>Georgia</th>\n",
       "      <td>82548</td>\n",
       "      <td>162686</td>\n",
       "      <td>251407</td>\n",
       "      <td>340989</td>\n",
       "      <td>516823</td>\n",
       "      <td>691392</td>\n",
       "      <td>906185</td>\n",
       "      <td>1057286</td>\n",
       "      <td>1184109</td>\n",
       "      <td>1542180</td>\n",
       "      <td>...</td>\n",
       "      <td>2895832</td>\n",
       "      <td>2908506</td>\n",
       "      <td>3123723</td>\n",
       "      <td>3444578</td>\n",
       "      <td>3943116</td>\n",
       "      <td>4589575</td>\n",
       "      <td>5463105</td>\n",
       "      <td>6478216</td>\n",
       "      <td>8186453</td>\n",
       "      <td>9687653</td>\n",
       "    </tr>\n",
       "    <tr>\n",
       "      <th>Hawaii</th>\n",
       "      <td>0</td>\n",
       "      <td>0</td>\n",
       "      <td>0</td>\n",
       "      <td>0</td>\n",
       "      <td>0</td>\n",
       "      <td>0</td>\n",
       "      <td>0</td>\n",
       "      <td>0</td>\n",
       "      <td>0</td>\n",
       "      <td>0</td>\n",
       "      <td>...</td>\n",
       "      <td>255912</td>\n",
       "      <td>368336</td>\n",
       "      <td>423330</td>\n",
       "      <td>499794</td>\n",
       "      <td>632772</td>\n",
       "      <td>768561</td>\n",
       "      <td>964691</td>\n",
       "      <td>1108229</td>\n",
       "      <td>1211537</td>\n",
       "      <td>1360301</td>\n",
       "    </tr>\n",
       "    <tr>\n",
       "      <th>Idaho</th>\n",
       "      <td>0</td>\n",
       "      <td>0</td>\n",
       "      <td>0</td>\n",
       "      <td>0</td>\n",
       "      <td>0</td>\n",
       "      <td>0</td>\n",
       "      <td>0</td>\n",
       "      <td>0</td>\n",
       "      <td>14999</td>\n",
       "      <td>32610</td>\n",
       "      <td>...</td>\n",
       "      <td>431866</td>\n",
       "      <td>445032</td>\n",
       "      <td>524873</td>\n",
       "      <td>588637</td>\n",
       "      <td>667191</td>\n",
       "      <td>712567</td>\n",
       "      <td>943935</td>\n",
       "      <td>1006749</td>\n",
       "      <td>1293953</td>\n",
       "      <td>1567582</td>\n",
       "    </tr>\n",
       "    <tr>\n",
       "      <th>Illinois</th>\n",
       "      <td>0</td>\n",
       "      <td>2458</td>\n",
       "      <td>12282</td>\n",
       "      <td>55211</td>\n",
       "      <td>157445</td>\n",
       "      <td>476183</td>\n",
       "      <td>851470</td>\n",
       "      <td>1711951</td>\n",
       "      <td>2539891</td>\n",
       "      <td>3077871</td>\n",
       "      <td>...</td>\n",
       "      <td>6485280</td>\n",
       "      <td>7630654</td>\n",
       "      <td>7897241</td>\n",
       "      <td>8712176</td>\n",
       "      <td>10081158</td>\n",
       "      <td>11113976</td>\n",
       "      <td>11426518</td>\n",
       "      <td>11430602</td>\n",
       "      <td>12419293</td>\n",
       "      <td>12830632</td>\n",
       "    </tr>\n",
       "    <tr>\n",
       "      <th>Indiana</th>\n",
       "      <td>0</td>\n",
       "      <td>2632</td>\n",
       "      <td>24520</td>\n",
       "      <td>147178</td>\n",
       "      <td>343031</td>\n",
       "      <td>685866</td>\n",
       "      <td>988416</td>\n",
       "      <td>1350428</td>\n",
       "      <td>1680637</td>\n",
       "      <td>1978301</td>\n",
       "      <td>...</td>\n",
       "      <td>2930390</td>\n",
       "      <td>3238503</td>\n",
       "      <td>3427796</td>\n",
       "      <td>3934224</td>\n",
       "      <td>4662498</td>\n",
       "      <td>5193669</td>\n",
       "      <td>5490224</td>\n",
       "      <td>5544159</td>\n",
       "      <td>6080485</td>\n",
       "      <td>6483802</td>\n",
       "    </tr>\n",
       "  </tbody>\n",
       "</table>\n",
       "<p>5 rows × 23 columns</p>\n",
       "</div>"
      ],
      "text/plain": [
       "           1790    1800    1810    1820    1830    1840    1850     1860     1870     1880    ...        1920     1930     1940     1950      1960      1970      1980      1990      2000      2010\n",
       "Georgia   82548  162686  251407  340989  516823  691392  906185  1057286  1184109  1542180    ...     2895832  2908506  3123723  3444578   3943116   4589575   5463105   6478216   8186453   9687653\n",
       "Hawaii        0       0       0       0       0       0       0        0        0        0    ...      255912   368336   423330   499794    632772    768561    964691   1108229   1211537   1360301\n",
       "Idaho         0       0       0       0       0       0       0        0    14999    32610    ...      431866   445032   524873   588637    667191    712567    943935   1006749   1293953   1567582\n",
       "Illinois      0    2458   12282   55211  157445  476183  851470  1711951  2539891  3077871    ...     6485280  7630654  7897241  8712176  10081158  11113976  11426518  11430602  12419293  12830632\n",
       "Indiana       0    2632   24520  147178  343031  685866  988416  1350428  1680637  1978301    ...     2930390  3238503  3427796  3934224   4662498   5193669   5490224   5544159   6080485   6483802\n",
       "\n",
       "[5 rows x 23 columns]"
      ]
     },
     "execution_count": 9,
     "metadata": {},
     "output_type": "execute_result"
    }
   ],
   "source": [
    "states.iloc[10:15]"
   ]
  },
  {
   "cell_type": "markdown",
   "metadata": {},
   "source": [
    "### Select rows 10 to 15, and the last five columns (by position)"
   ]
  },
  {
   "cell_type": "code",
   "execution_count": 10,
   "metadata": {
    "collapsed": false
   },
   "outputs": [
    {
     "data": {
      "text/html": [
       "<div>\n",
       "<table border=\"1\" class=\"dataframe\">\n",
       "  <thead>\n",
       "    <tr style=\"text-align: right;\">\n",
       "      <th></th>\n",
       "      <th>1970</th>\n",
       "      <th>1980</th>\n",
       "      <th>1990</th>\n",
       "      <th>2000</th>\n",
       "      <th>2010</th>\n",
       "    </tr>\n",
       "  </thead>\n",
       "  <tbody>\n",
       "    <tr>\n",
       "      <th>Georgia</th>\n",
       "      <td>4589575</td>\n",
       "      <td>5463105</td>\n",
       "      <td>6478216</td>\n",
       "      <td>8186453</td>\n",
       "      <td>9687653</td>\n",
       "    </tr>\n",
       "    <tr>\n",
       "      <th>Hawaii</th>\n",
       "      <td>768561</td>\n",
       "      <td>964691</td>\n",
       "      <td>1108229</td>\n",
       "      <td>1211537</td>\n",
       "      <td>1360301</td>\n",
       "    </tr>\n",
       "    <tr>\n",
       "      <th>Idaho</th>\n",
       "      <td>712567</td>\n",
       "      <td>943935</td>\n",
       "      <td>1006749</td>\n",
       "      <td>1293953</td>\n",
       "      <td>1567582</td>\n",
       "    </tr>\n",
       "    <tr>\n",
       "      <th>Illinois</th>\n",
       "      <td>11113976</td>\n",
       "      <td>11426518</td>\n",
       "      <td>11430602</td>\n",
       "      <td>12419293</td>\n",
       "      <td>12830632</td>\n",
       "    </tr>\n",
       "    <tr>\n",
       "      <th>Indiana</th>\n",
       "      <td>5193669</td>\n",
       "      <td>5490224</td>\n",
       "      <td>5544159</td>\n",
       "      <td>6080485</td>\n",
       "      <td>6483802</td>\n",
       "    </tr>\n",
       "  </tbody>\n",
       "</table>\n",
       "</div>"
      ],
      "text/plain": [
       "              1970      1980      1990      2000      2010\n",
       "Georgia    4589575   5463105   6478216   8186453   9687653\n",
       "Hawaii      768561    964691   1108229   1211537   1360301\n",
       "Idaho       712567    943935   1006749   1293953   1567582\n",
       "Illinois  11113976  11426518  11430602  12419293  12830632\n",
       "Indiana    5193669   5490224   5544159   6080485   6483802"
      ]
     },
     "execution_count": 10,
     "metadata": {},
     "output_type": "execute_result"
    }
   ],
   "source": [
    "states.iloc[10:15,-5:]"
   ]
  },
  {
   "cell_type": "markdown",
   "metadata": {},
   "source": [
    "## Load in the iris dataset and EDA:"
   ]
  },
  {
   "cell_type": "markdown",
   "metadata": {},
   "source": [
    "The iris dataset can be found within the **sklearn** package and contains measurement data for three types of Iris' (a kind of flower): 1) Setosa, 2) Versicolour, and 3) Virginica. For each type of Iris, we have recorded the sepal length, sepal width, petal length, and petal width in centimeters. (The sepal can be basically thought of as the outer-most petal of a flower).  These four measurements were done on 50 unique Setosa, 50 unique Versicolour, and 50 unique Virginia flowers for a total of 150 unique flower measurements. \n",
    "\n",
    "In the dataset below, we will let the **target** variable designate the flower type by letting **0** represent Setosa, **1** represent Versicolour, and **2** represent Virginica. Now, we will load in the dataset:"
   ]
  },
  {
   "cell_type": "code",
   "execution_count": 11,
   "metadata": {
    "collapsed": false
   },
   "outputs": [
    {
     "data": {
      "text/html": [
       "<div>\n",
       "<table border=\"1\" class=\"dataframe\">\n",
       "  <thead>\n",
       "    <tr style=\"text-align: right;\">\n",
       "      <th></th>\n",
       "      <th>sepal length (cm)</th>\n",
       "      <th>sepal width (cm)</th>\n",
       "      <th>petal length (cm)</th>\n",
       "      <th>petal width (cm)</th>\n",
       "      <th>target</th>\n",
       "    </tr>\n",
       "  </thead>\n",
       "  <tbody>\n",
       "    <tr>\n",
       "      <th>0</th>\n",
       "      <td>5.1</td>\n",
       "      <td>3.5</td>\n",
       "      <td>1.4</td>\n",
       "      <td>0.2</td>\n",
       "      <td>0.0</td>\n",
       "    </tr>\n",
       "    <tr>\n",
       "      <th>1</th>\n",
       "      <td>4.9</td>\n",
       "      <td>3.0</td>\n",
       "      <td>1.4</td>\n",
       "      <td>0.2</td>\n",
       "      <td>0.0</td>\n",
       "    </tr>\n",
       "    <tr>\n",
       "      <th>2</th>\n",
       "      <td>4.7</td>\n",
       "      <td>3.2</td>\n",
       "      <td>1.3</td>\n",
       "      <td>0.2</td>\n",
       "      <td>0.0</td>\n",
       "    </tr>\n",
       "    <tr>\n",
       "      <th>3</th>\n",
       "      <td>4.6</td>\n",
       "      <td>3.1</td>\n",
       "      <td>1.5</td>\n",
       "      <td>0.2</td>\n",
       "      <td>0.0</td>\n",
       "    </tr>\n",
       "    <tr>\n",
       "      <th>4</th>\n",
       "      <td>5.0</td>\n",
       "      <td>3.6</td>\n",
       "      <td>1.4</td>\n",
       "      <td>0.2</td>\n",
       "      <td>0.0</td>\n",
       "    </tr>\n",
       "  </tbody>\n",
       "</table>\n",
       "</div>"
      ],
      "text/plain": [
       "   sepal length (cm)  sepal width (cm)  petal length (cm)  petal width (cm)  target\n",
       "0                5.1               3.5                1.4               0.2     0.0\n",
       "1                4.9               3.0                1.4               0.2     0.0\n",
       "2                4.7               3.2                1.3               0.2     0.0\n",
       "3                4.6               3.1                1.5               0.2     0.0\n",
       "4                5.0               3.6                1.4               0.2     0.0"
      ]
     },
     "execution_count": 11,
     "metadata": {},
     "output_type": "execute_result"
    }
   ],
   "source": [
    "# Load in the dataset, which is contained in the sklearn package\n",
    "# Inital version of dataset is in dict-like container object\n",
    "iris_bunch = datasets.load_iris()\n",
    "\n",
    "# np.c_ is the numpy concatenate function which combines the data array and target array.\n",
    "# The target array is our \"Y\" variable and the data array are the \"X\" variables. \n",
    "iris = pd.DataFrame(data= np.c_[iris_bunch['data'], iris_bunch ['target']],\n",
    "                     columns= iris_bunch['feature_names'] + ['target'])\n",
    "\n",
    "iris.head()"
   ]
  },
  {
   "cell_type": "markdown",
   "metadata": {},
   "source": [
    "We can use the **describe()** function to summarize our dataset. When using the **describe()** function, some care should be taken to interpret the values based on what the data represent. For example, the **count** row shows we have 150 observations. The **target** column doesn't have too much interpretive value as the other columns as we are letting **0**, **1**, and **2** be **categorical** variables indicating which flower type was measured.\n"
   ]
  },
  {
   "cell_type": "code",
   "execution_count": 12,
   "metadata": {
    "collapsed": false
   },
   "outputs": [
    {
     "data": {
      "text/html": [
       "<div>\n",
       "<table border=\"1\" class=\"dataframe\">\n",
       "  <thead>\n",
       "    <tr style=\"text-align: right;\">\n",
       "      <th></th>\n",
       "      <th>sepal length (cm)</th>\n",
       "      <th>sepal width (cm)</th>\n",
       "      <th>petal length (cm)</th>\n",
       "      <th>petal width (cm)</th>\n",
       "      <th>target</th>\n",
       "    </tr>\n",
       "  </thead>\n",
       "  <tbody>\n",
       "    <tr>\n",
       "      <th>count</th>\n",
       "      <td>150.000000</td>\n",
       "      <td>150.000000</td>\n",
       "      <td>150.000000</td>\n",
       "      <td>150.000000</td>\n",
       "      <td>150.000000</td>\n",
       "    </tr>\n",
       "    <tr>\n",
       "      <th>mean</th>\n",
       "      <td>5.843333</td>\n",
       "      <td>3.054000</td>\n",
       "      <td>3.758667</td>\n",
       "      <td>1.198667</td>\n",
       "      <td>1.000000</td>\n",
       "    </tr>\n",
       "    <tr>\n",
       "      <th>std</th>\n",
       "      <td>0.828066</td>\n",
       "      <td>0.433594</td>\n",
       "      <td>1.764420</td>\n",
       "      <td>0.763161</td>\n",
       "      <td>0.819232</td>\n",
       "    </tr>\n",
       "    <tr>\n",
       "      <th>min</th>\n",
       "      <td>4.300000</td>\n",
       "      <td>2.000000</td>\n",
       "      <td>1.000000</td>\n",
       "      <td>0.100000</td>\n",
       "      <td>0.000000</td>\n",
       "    </tr>\n",
       "    <tr>\n",
       "      <th>25%</th>\n",
       "      <td>5.100000</td>\n",
       "      <td>2.800000</td>\n",
       "      <td>1.600000</td>\n",
       "      <td>0.300000</td>\n",
       "      <td>0.000000</td>\n",
       "    </tr>\n",
       "    <tr>\n",
       "      <th>50%</th>\n",
       "      <td>5.800000</td>\n",
       "      <td>3.000000</td>\n",
       "      <td>4.350000</td>\n",
       "      <td>1.300000</td>\n",
       "      <td>1.000000</td>\n",
       "    </tr>\n",
       "    <tr>\n",
       "      <th>75%</th>\n",
       "      <td>6.400000</td>\n",
       "      <td>3.300000</td>\n",
       "      <td>5.100000</td>\n",
       "      <td>1.800000</td>\n",
       "      <td>2.000000</td>\n",
       "    </tr>\n",
       "    <tr>\n",
       "      <th>max</th>\n",
       "      <td>7.900000</td>\n",
       "      <td>4.400000</td>\n",
       "      <td>6.900000</td>\n",
       "      <td>2.500000</td>\n",
       "      <td>2.000000</td>\n",
       "    </tr>\n",
       "  </tbody>\n",
       "</table>\n",
       "</div>"
      ],
      "text/plain": [
       "       sepal length (cm)  sepal width (cm)  petal length (cm)  petal width (cm)      target\n",
       "count         150.000000        150.000000         150.000000        150.000000  150.000000\n",
       "mean            5.843333          3.054000           3.758667          1.198667    1.000000\n",
       "std             0.828066          0.433594           1.764420          0.763161    0.819232\n",
       "min             4.300000          2.000000           1.000000          0.100000    0.000000\n",
       "25%             5.100000          2.800000           1.600000          0.300000    0.000000\n",
       "50%             5.800000          3.000000           4.350000          1.300000    1.000000\n",
       "75%             6.400000          3.300000           5.100000          1.800000    2.000000\n",
       "max             7.900000          4.400000           6.900000          2.500000    2.000000"
      ]
     },
     "execution_count": 12,
     "metadata": {},
     "output_type": "execute_result"
    }
   ],
   "source": [
    "iris.describe()"
   ]
  },
  {
   "cell_type": "markdown",
   "metadata": {},
   "source": [
    "We can also use the groupby function to look at mean stats aggregated by flower type "
   ]
  },
  {
   "cell_type": "code",
   "execution_count": 13,
   "metadata": {
    "collapsed": false
   },
   "outputs": [
    {
     "data": {
      "text/html": [
       "<div>\n",
       "<table border=\"1\" class=\"dataframe\">\n",
       "  <thead>\n",
       "    <tr style=\"text-align: right;\">\n",
       "      <th></th>\n",
       "      <th>sepal length (cm)</th>\n",
       "      <th>sepal width (cm)</th>\n",
       "      <th>petal length (cm)</th>\n",
       "      <th>petal width (cm)</th>\n",
       "    </tr>\n",
       "    <tr>\n",
       "      <th>target</th>\n",
       "      <th></th>\n",
       "      <th></th>\n",
       "      <th></th>\n",
       "      <th></th>\n",
       "    </tr>\n",
       "  </thead>\n",
       "  <tbody>\n",
       "    <tr>\n",
       "      <th>0.0</th>\n",
       "      <td>5.006</td>\n",
       "      <td>3.418</td>\n",
       "      <td>1.464</td>\n",
       "      <td>0.244</td>\n",
       "    </tr>\n",
       "    <tr>\n",
       "      <th>1.0</th>\n",
       "      <td>5.936</td>\n",
       "      <td>2.770</td>\n",
       "      <td>4.260</td>\n",
       "      <td>1.326</td>\n",
       "    </tr>\n",
       "    <tr>\n",
       "      <th>2.0</th>\n",
       "      <td>6.588</td>\n",
       "      <td>2.974</td>\n",
       "      <td>5.552</td>\n",
       "      <td>2.026</td>\n",
       "    </tr>\n",
       "  </tbody>\n",
       "</table>\n",
       "</div>"
      ],
      "text/plain": [
       "        sepal length (cm)  sepal width (cm)  petal length (cm)  petal width (cm)\n",
       "target                                                                          \n",
       "0.0                 5.006             3.418              1.464             0.244\n",
       "1.0                 5.936             2.770              4.260             1.326\n",
       "2.0                 6.588             2.974              5.552             2.026"
      ]
     },
     "execution_count": 13,
     "metadata": {},
     "output_type": "execute_result"
    }
   ],
   "source": [
    "iris.groupby('target').mean()"
   ]
  },
  {
   "cell_type": "markdown",
   "metadata": {},
   "source": [
    "In general, it is good practice to normalize data before proceeding. As such, we can create the following functions:"
   ]
  },
  {
   "cell_type": "code",
   "execution_count": 14,
   "metadata": {
    "collapsed": false
   },
   "outputs": [
    {
     "data": {
      "text/html": [
       "<div>\n",
       "<table border=\"1\" class=\"dataframe\">\n",
       "  <thead>\n",
       "    <tr style=\"text-align: right;\">\n",
       "      <th></th>\n",
       "      <th>sepal length (cm)</th>\n",
       "      <th>sepal width (cm)</th>\n",
       "      <th>petal length (cm)</th>\n",
       "      <th>petal width (cm)</th>\n",
       "      <th>target</th>\n",
       "    </tr>\n",
       "  </thead>\n",
       "  <tbody>\n",
       "    <tr>\n",
       "      <th>0</th>\n",
       "      <td>0.222222</td>\n",
       "      <td>0.625000</td>\n",
       "      <td>0.067797</td>\n",
       "      <td>0.041667</td>\n",
       "      <td>0.0</td>\n",
       "    </tr>\n",
       "    <tr>\n",
       "      <th>1</th>\n",
       "      <td>0.166667</td>\n",
       "      <td>0.416667</td>\n",
       "      <td>0.067797</td>\n",
       "      <td>0.041667</td>\n",
       "      <td>0.0</td>\n",
       "    </tr>\n",
       "    <tr>\n",
       "      <th>2</th>\n",
       "      <td>0.111111</td>\n",
       "      <td>0.500000</td>\n",
       "      <td>0.050847</td>\n",
       "      <td>0.041667</td>\n",
       "      <td>0.0</td>\n",
       "    </tr>\n",
       "    <tr>\n",
       "      <th>3</th>\n",
       "      <td>0.083333</td>\n",
       "      <td>0.458333</td>\n",
       "      <td>0.084746</td>\n",
       "      <td>0.041667</td>\n",
       "      <td>0.0</td>\n",
       "    </tr>\n",
       "    <tr>\n",
       "      <th>4</th>\n",
       "      <td>0.194444</td>\n",
       "      <td>0.666667</td>\n",
       "      <td>0.067797</td>\n",
       "      <td>0.041667</td>\n",
       "      <td>0.0</td>\n",
       "    </tr>\n",
       "  </tbody>\n",
       "</table>\n",
       "</div>"
      ],
      "text/plain": [
       "   sepal length (cm)  sepal width (cm)  petal length (cm)  petal width (cm)  target\n",
       "0           0.222222          0.625000           0.067797          0.041667     0.0\n",
       "1           0.166667          0.416667           0.067797          0.041667     0.0\n",
       "2           0.111111          0.500000           0.050847          0.041667     0.0\n",
       "3           0.083333          0.458333           0.084746          0.041667     0.0\n",
       "4           0.194444          0.666667           0.067797          0.041667     0.0"
      ]
     },
     "execution_count": 14,
     "metadata": {},
     "output_type": "execute_result"
    }
   ],
   "source": [
    "# Takes in a dataset and normalizes it. \n",
    "def normalize(x):\n",
    "    num = x - np.min(x)\n",
    "    denom = np.max(x) - np.min(x)\n",
    "    return (num / denom)\n",
    "\n",
    "iris.iloc[:, 0:4] = normalize(iris.iloc[:, 0:4])\n",
    "\n",
    "iris.head()"
   ]
  },
  {
   "cell_type": "markdown",
   "metadata": {},
   "source": [
    "Let's see what the describe function **AFTER** normalization:"
   ]
  },
  {
   "cell_type": "code",
   "execution_count": 15,
   "metadata": {
    "collapsed": false
   },
   "outputs": [
    {
     "data": {
      "text/html": [
       "<div>\n",
       "<table border=\"1\" class=\"dataframe\">\n",
       "  <thead>\n",
       "    <tr style=\"text-align: right;\">\n",
       "      <th></th>\n",
       "      <th>sepal length (cm)</th>\n",
       "      <th>sepal width (cm)</th>\n",
       "      <th>petal length (cm)</th>\n",
       "      <th>petal width (cm)</th>\n",
       "      <th>target</th>\n",
       "    </tr>\n",
       "  </thead>\n",
       "  <tbody>\n",
       "    <tr>\n",
       "      <th>count</th>\n",
       "      <td>150.000000</td>\n",
       "      <td>150.000000</td>\n",
       "      <td>150.000000</td>\n",
       "      <td>150.000000</td>\n",
       "      <td>150.000000</td>\n",
       "    </tr>\n",
       "    <tr>\n",
       "      <th>mean</th>\n",
       "      <td>0.428704</td>\n",
       "      <td>0.439167</td>\n",
       "      <td>0.467571</td>\n",
       "      <td>0.457778</td>\n",
       "      <td>1.000000</td>\n",
       "    </tr>\n",
       "    <tr>\n",
       "      <th>std</th>\n",
       "      <td>0.230018</td>\n",
       "      <td>0.180664</td>\n",
       "      <td>0.299054</td>\n",
       "      <td>0.317984</td>\n",
       "      <td>0.819232</td>\n",
       "    </tr>\n",
       "    <tr>\n",
       "      <th>min</th>\n",
       "      <td>0.000000</td>\n",
       "      <td>0.000000</td>\n",
       "      <td>0.000000</td>\n",
       "      <td>0.000000</td>\n",
       "      <td>0.000000</td>\n",
       "    </tr>\n",
       "    <tr>\n",
       "      <th>25%</th>\n",
       "      <td>0.222222</td>\n",
       "      <td>0.333333</td>\n",
       "      <td>0.101695</td>\n",
       "      <td>0.083333</td>\n",
       "      <td>0.000000</td>\n",
       "    </tr>\n",
       "    <tr>\n",
       "      <th>50%</th>\n",
       "      <td>0.416667</td>\n",
       "      <td>0.416667</td>\n",
       "      <td>0.567797</td>\n",
       "      <td>0.500000</td>\n",
       "      <td>1.000000</td>\n",
       "    </tr>\n",
       "    <tr>\n",
       "      <th>75%</th>\n",
       "      <td>0.583333</td>\n",
       "      <td>0.541667</td>\n",
       "      <td>0.694915</td>\n",
       "      <td>0.708333</td>\n",
       "      <td>2.000000</td>\n",
       "    </tr>\n",
       "    <tr>\n",
       "      <th>max</th>\n",
       "      <td>1.000000</td>\n",
       "      <td>1.000000</td>\n",
       "      <td>1.000000</td>\n",
       "      <td>1.000000</td>\n",
       "      <td>2.000000</td>\n",
       "    </tr>\n",
       "  </tbody>\n",
       "</table>\n",
       "</div>"
      ],
      "text/plain": [
       "       sepal length (cm)  sepal width (cm)  petal length (cm)  petal width (cm)      target\n",
       "count         150.000000        150.000000         150.000000        150.000000  150.000000\n",
       "mean            0.428704          0.439167           0.467571          0.457778    1.000000\n",
       "std             0.230018          0.180664           0.299054          0.317984    0.819232\n",
       "min             0.000000          0.000000           0.000000          0.000000    0.000000\n",
       "25%             0.222222          0.333333           0.101695          0.083333    0.000000\n",
       "50%             0.416667          0.416667           0.567797          0.500000    1.000000\n",
       "75%             0.583333          0.541667           0.694915          0.708333    2.000000\n",
       "max             1.000000          1.000000           1.000000          1.000000    2.000000"
      ]
     },
     "execution_count": 15,
     "metadata": {},
     "output_type": "execute_result"
    }
   ],
   "source": [
    "iris.describe()"
   ]
  },
  {
   "cell_type": "markdown",
   "metadata": {},
   "source": [
    "We can also use the **pairplot()** function to create a scatterplot matrix of our data:"
   ]
  },
  {
   "cell_type": "code",
   "execution_count": 16,
   "metadata": {
    "collapsed": false
   },
   "outputs": [
    {
     "name": "stderr",
     "output_type": "stream",
     "text": [
      "/usr/local/lib/python3.6/site-packages/matplotlib/__init__.py:938: UserWarning: axes.color_cycle is deprecated and replaced with axes.prop_cycle; please use the latter.\n",
      "  warnings.warn(self.msg_depr % (key, alt_key))\n"
     ]
    },
    {
     "data": {
      "text/plain": [
       "<seaborn.axisgrid.PairGrid at 0x112e07b00>"
      ]
     },
     "execution_count": 16,
     "metadata": {},
     "output_type": "execute_result"
    },
    {
     "data": {
      "image/png": "[encoded data removed]",
      "text/plain": [
       "<matplotlib.figure.Figure at 0x112e07a90>"
      ]
     },
     "metadata": {},
     "output_type": "display_data"
    }
   ],
   "source": [
    "features_cols = iris.columns[:4]\n",
    "sns.pairplot(data=iris,hue='target',vars=features_cols)"
   ]
  },
  {
   "cell_type": "markdown",
   "metadata": {},
   "source": [
    "## Split up the data into a training set and a test set:"
   ]
  },
  {
   "cell_type": "markdown",
   "metadata": {},
   "source": [
    "Now that we have an idea of what the data looks like, we would like to create a way to predict flower type (Setosa, Versicolour, or Virginica) based on our 4 predictor variables. Whatever method we use, it would be nice to have a way to assess how accurate our model is. Therefore, we will be breaking up the data into a **training** and a **testing** set. The **training** set will be used to train the model, while the **testing** set will be used to gauge how well our model does in general. The **testing** set is a way for us to ensure our model doesn't overfit our data."
   ]
  },
  {
   "cell_type": "markdown",
   "metadata": {},
   "source": [
    "Let us first create a function that will randomly split the data up into a 70-30 split, with 70% of the data going into the **testing** set:"
   ]
  },
  {
   "cell_type": "code",
   "execution_count": 17,
   "metadata": {
    "collapsed": true
   },
   "outputs": [],
   "source": [
    "def split_data(data, train_size=.7):\n",
    "    # Determine the number of observations we have in our entire data set:\n",
    "    length = len(data)\n",
    "    # Create a list of integer indices ranging over our number of observations:\n",
    "    indices = list(range(length))\n",
    "    # Use numpy's random.shuffle() function to randomly shuffle over our index:\n",
    "    np.random.shuffle(indices)\n",
    "    \n",
    "    # Create a list for the first 70% of the shuffled indices and set to training: \n",
    "    train_indices = indices[0:int(length * train_size)]\n",
    "    # Create a list for the remaining 30% of the shuffled indices and set to testing:\n",
    "    test_indices = indices[int(length * train_size):]\n",
    "    \n",
    "    # Use the list of training indices to find the corresponding data entries:\n",
    "    train = data.iloc[train_indices]\n",
    "    # Use the list of testing indices to find the corresponding data entries:\n",
    "    test = data.iloc[test_indices]\n",
    "    \n",
    "    # Return two dataframes, one with the testing data and one with the training data:\n",
    "    return train, test"
   ]
  },
  {
   "cell_type": "markdown",
   "metadata": {},
   "source": [
    "We will now run the function and see if it returns actually what we want:"
   ]
  },
  {
   "cell_type": "code",
   "execution_count": 18,
   "metadata": {
    "collapsed": false,
    "scrolled": false
   },
   "outputs": [
    {
     "data": {
      "text/plain": [
       "(105, 5)"
      ]
     },
     "execution_count": 18,
     "metadata": {},
     "output_type": "execute_result"
    }
   ],
   "source": [
    "iris_train,iris_test  = split_data(iris)\n",
    "\n",
    "# Return the dimensions of our training dataframe after using the split_data function:\n",
    "iris_train.shape"
   ]
  },
  {
   "cell_type": "markdown",
   "metadata": {},
   "source": [
    "## Alternative approach using train_test_split from sklearn"
   ]
  },
  {
   "cell_type": "code",
   "execution_count": 19,
   "metadata": {
    "collapsed": false
   },
   "outputs": [
    {
     "data": {
      "text/plain": [
       "(105, 5)"
      ]
     },
     "execution_count": 19,
     "metadata": {},
     "output_type": "execute_result"
    }
   ],
   "source": [
    "train, test = train_test_split(iris, test_size=0.3)\n",
    "train.shape"
   ]
  },
  {
   "cell_type": "markdown",
   "metadata": {},
   "source": [
    "## Implementing the kNN Algorithm by hand:"
   ]
  },
  {
   "cell_type": "markdown",
   "metadata": {},
   "source": [
    "To really understand how the kNN algorithm works, it helps to go through the algorithm line by line in code."
   ]
  },
  {
   "cell_type": "code",
   "execution_count": 20,
   "metadata": {
    "collapsed": true
   },
   "outputs": [],
   "source": [
    "def knn_algorithm(train, test, k):\n",
    "    \n",
    "    # Create any empty list to store our predictions in:\n",
    "    predictions = []\n",
    "    \n",
    "    predictor_cols = [col for col in train.columns if col != 'target']\n",
    "    \n",
    "    # Separate the response and predictor variables from training and test set:\n",
    "    train_x = train[predictor_cols]\n",
    "    train_y = train['target']\n",
    "    test_x  = test[predictor_cols]\n",
    "    test_y  = test['target']\n",
    "    \n",
    "    for index, row in test_x.iterrows():\n",
    "\n",
    "        # For each test point, store the distance between all training points and test point\n",
    "        vec_distances = pd.DataFrame((train_x.values - row.values)**2, index=train.index, columns = train_x.columns)\n",
    "\n",
    "        # Then, we sum across the columns per row to obtain the Euclidean distance squared\n",
    "        distances = vec_distances.sum(axis = 1)\n",
    "        \n",
    "        # Sort the distances to training points (in ascending order) and take first k points\n",
    "        nearest_k = distances.sort_values().iloc[:k]\n",
    "        # For simplicity, we omitted the square rooting of the Euclidean distance because the\n",
    "        # square root function preserves order. \n",
    "        \n",
    "        # Take the mean of the y-values of training set corresponding to the nearest k points\n",
    "        k_mean = train_y[nearest_k.index].mean()\n",
    "        \n",
    "        # Add on the mean to our predicted y-value list\n",
    "        predictions.append(k_mean)\n",
    "    \n",
    "    # Create a dataframe with the x-values from test and predicted y-values  \n",
    "    predict = test.copy()  \n",
    "    predict['target'] = pd.Series(predictions, index=test.index)\n",
    "    \n",
    "    return predict"
   ]
  },
  {
   "cell_type": "markdown",
   "metadata": {},
   "source": [
    "Now to run the algorithm on our dataset with $k = 5$:"
   ]
  },
  {
   "cell_type": "code",
   "execution_count": 21,
   "metadata": {
    "collapsed": false
   },
   "outputs": [
    {
     "data": {
      "text/html": [
       "<div>\n",
       "<table border=\"1\" class=\"dataframe\">\n",
       "  <thead>\n",
       "    <tr style=\"text-align: right;\">\n",
       "      <th></th>\n",
       "      <th>sepal length (cm)</th>\n",
       "      <th>sepal width (cm)</th>\n",
       "      <th>petal length (cm)</th>\n",
       "      <th>petal width (cm)</th>\n",
       "      <th>target</th>\n",
       "    </tr>\n",
       "  </thead>\n",
       "  <tbody>\n",
       "    <tr>\n",
       "      <th>127</th>\n",
       "      <td>0.500000</td>\n",
       "      <td>0.416667</td>\n",
       "      <td>0.661017</td>\n",
       "      <td>0.708333</td>\n",
       "      <td>1.8</td>\n",
       "    </tr>\n",
       "    <tr>\n",
       "      <th>71</th>\n",
       "      <td>0.500000</td>\n",
       "      <td>0.333333</td>\n",
       "      <td>0.508475</td>\n",
       "      <td>0.500000</td>\n",
       "      <td>1.0</td>\n",
       "    </tr>\n",
       "    <tr>\n",
       "      <th>118</th>\n",
       "      <td>0.944444</td>\n",
       "      <td>0.250000</td>\n",
       "      <td>1.000000</td>\n",
       "      <td>0.916667</td>\n",
       "      <td>2.0</td>\n",
       "    </tr>\n",
       "    <tr>\n",
       "      <th>122</th>\n",
       "      <td>0.944444</td>\n",
       "      <td>0.333333</td>\n",
       "      <td>0.966102</td>\n",
       "      <td>0.791667</td>\n",
       "      <td>2.0</td>\n",
       "    </tr>\n",
       "    <tr>\n",
       "      <th>9</th>\n",
       "      <td>0.166667</td>\n",
       "      <td>0.458333</td>\n",
       "      <td>0.084746</td>\n",
       "      <td>0.000000</td>\n",
       "      <td>0.0</td>\n",
       "    </tr>\n",
       "    <tr>\n",
       "      <th>109</th>\n",
       "      <td>0.805556</td>\n",
       "      <td>0.666667</td>\n",
       "      <td>0.864407</td>\n",
       "      <td>1.000000</td>\n",
       "      <td>2.0</td>\n",
       "    </tr>\n",
       "    <tr>\n",
       "      <th>135</th>\n",
       "      <td>0.944444</td>\n",
       "      <td>0.416667</td>\n",
       "      <td>0.864407</td>\n",
       "      <td>0.916667</td>\n",
       "      <td>2.0</td>\n",
       "    </tr>\n",
       "    <tr>\n",
       "      <th>42</th>\n",
       "      <td>0.027778</td>\n",
       "      <td>0.500000</td>\n",
       "      <td>0.050847</td>\n",
       "      <td>0.041667</td>\n",
       "      <td>0.0</td>\n",
       "    </tr>\n",
       "    <tr>\n",
       "      <th>67</th>\n",
       "      <td>0.416667</td>\n",
       "      <td>0.291667</td>\n",
       "      <td>0.525424</td>\n",
       "      <td>0.375000</td>\n",
       "      <td>1.0</td>\n",
       "    </tr>\n",
       "    <tr>\n",
       "      <th>31</th>\n",
       "      <td>0.305556</td>\n",
       "      <td>0.583333</td>\n",
       "      <td>0.084746</td>\n",
       "      <td>0.125000</td>\n",
       "      <td>0.0</td>\n",
       "    </tr>\n",
       "    <tr>\n",
       "      <th>65</th>\n",
       "      <td>0.666667</td>\n",
       "      <td>0.458333</td>\n",
       "      <td>0.576271</td>\n",
       "      <td>0.541667</td>\n",
       "      <td>1.0</td>\n",
       "    </tr>\n",
       "    <tr>\n",
       "      <th>90</th>\n",
       "      <td>0.333333</td>\n",
       "      <td>0.250000</td>\n",
       "      <td>0.576271</td>\n",
       "      <td>0.458333</td>\n",
       "      <td>1.0</td>\n",
       "    </tr>\n",
       "    <tr>\n",
       "      <th>133</th>\n",
       "      <td>0.555556</td>\n",
       "      <td>0.333333</td>\n",
       "      <td>0.694915</td>\n",
       "      <td>0.583333</td>\n",
       "      <td>1.2</td>\n",
       "    </tr>\n",
       "    <tr>\n",
       "      <th>114</th>\n",
       "      <td>0.416667</td>\n",
       "      <td>0.333333</td>\n",
       "      <td>0.694915</td>\n",
       "      <td>0.958333</td>\n",
       "      <td>2.0</td>\n",
       "    </tr>\n",
       "    <tr>\n",
       "      <th>25</th>\n",
       "      <td>0.194444</td>\n",
       "      <td>0.416667</td>\n",
       "      <td>0.101695</td>\n",
       "      <td>0.041667</td>\n",
       "      <td>0.0</td>\n",
       "    </tr>\n",
       "    <tr>\n",
       "      <th>92</th>\n",
       "      <td>0.416667</td>\n",
       "      <td>0.250000</td>\n",
       "      <td>0.508475</td>\n",
       "      <td>0.458333</td>\n",
       "      <td>1.0</td>\n",
       "    </tr>\n",
       "    <tr>\n",
       "      <th>116</th>\n",
       "      <td>0.611111</td>\n",
       "      <td>0.416667</td>\n",
       "      <td>0.762712</td>\n",
       "      <td>0.708333</td>\n",
       "      <td>1.8</td>\n",
       "    </tr>\n",
       "    <tr>\n",
       "      <th>104</th>\n",
       "      <td>0.611111</td>\n",
       "      <td>0.416667</td>\n",
       "      <td>0.813559</td>\n",
       "      <td>0.875000</td>\n",
       "      <td>2.0</td>\n",
       "    </tr>\n",
       "    <tr>\n",
       "      <th>108</th>\n",
       "      <td>0.666667</td>\n",
       "      <td>0.208333</td>\n",
       "      <td>0.813559</td>\n",
       "      <td>0.708333</td>\n",
       "      <td>2.0</td>\n",
       "    </tr>\n",
       "    <tr>\n",
       "      <th>112</th>\n",
       "      <td>0.694444</td>\n",
       "      <td>0.416667</td>\n",
       "      <td>0.762712</td>\n",
       "      <td>0.833333</td>\n",
       "      <td>2.0</td>\n",
       "    </tr>\n",
       "    <tr>\n",
       "      <th>80</th>\n",
       "      <td>0.333333</td>\n",
       "      <td>0.166667</td>\n",
       "      <td>0.474576</td>\n",
       "      <td>0.416667</td>\n",
       "      <td>1.0</td>\n",
       "    </tr>\n",
       "    <tr>\n",
       "      <th>12</th>\n",
       "      <td>0.138889</td>\n",
       "      <td>0.416667</td>\n",
       "      <td>0.067797</td>\n",
       "      <td>0.000000</td>\n",
       "      <td>0.0</td>\n",
       "    </tr>\n",
       "    <tr>\n",
       "      <th>137</th>\n",
       "      <td>0.583333</td>\n",
       "      <td>0.458333</td>\n",
       "      <td>0.762712</td>\n",
       "      <td>0.708333</td>\n",
       "      <td>1.8</td>\n",
       "    </tr>\n",
       "    <tr>\n",
       "      <th>129</th>\n",
       "      <td>0.805556</td>\n",
       "      <td>0.416667</td>\n",
       "      <td>0.813559</td>\n",
       "      <td>0.625000</td>\n",
       "      <td>1.6</td>\n",
       "    </tr>\n",
       "    <tr>\n",
       "      <th>17</th>\n",
       "      <td>0.222222</td>\n",
       "      <td>0.625000</td>\n",
       "      <td>0.067797</td>\n",
       "      <td>0.083333</td>\n",
       "      <td>0.0</td>\n",
       "    </tr>\n",
       "    <tr>\n",
       "      <th>87</th>\n",
       "      <td>0.555556</td>\n",
       "      <td>0.125000</td>\n",
       "      <td>0.576271</td>\n",
       "      <td>0.500000</td>\n",
       "      <td>1.2</td>\n",
       "    </tr>\n",
       "    <tr>\n",
       "      <th>76</th>\n",
       "      <td>0.694444</td>\n",
       "      <td>0.333333</td>\n",
       "      <td>0.644068</td>\n",
       "      <td>0.541667</td>\n",
       "      <td>1.0</td>\n",
       "    </tr>\n",
       "    <tr>\n",
       "      <th>120</th>\n",
       "      <td>0.722222</td>\n",
       "      <td>0.500000</td>\n",
       "      <td>0.796610</td>\n",
       "      <td>0.916667</td>\n",
       "      <td>2.0</td>\n",
       "    </tr>\n",
       "    <tr>\n",
       "      <th>23</th>\n",
       "      <td>0.222222</td>\n",
       "      <td>0.541667</td>\n",
       "      <td>0.118644</td>\n",
       "      <td>0.166667</td>\n",
       "      <td>0.0</td>\n",
       "    </tr>\n",
       "    <tr>\n",
       "      <th>79</th>\n",
       "      <td>0.388889</td>\n",
       "      <td>0.250000</td>\n",
       "      <td>0.423729</td>\n",
       "      <td>0.375000</td>\n",
       "      <td>1.0</td>\n",
       "    </tr>\n",
       "    <tr>\n",
       "      <th>2</th>\n",
       "      <td>0.111111</td>\n",
       "      <td>0.500000</td>\n",
       "      <td>0.050847</td>\n",
       "      <td>0.041667</td>\n",
       "      <td>0.0</td>\n",
       "    </tr>\n",
       "    <tr>\n",
       "      <th>47</th>\n",
       "      <td>0.083333</td>\n",
       "      <td>0.500000</td>\n",
       "      <td>0.067797</td>\n",
       "      <td>0.041667</td>\n",
       "      <td>0.0</td>\n",
       "    </tr>\n",
       "    <tr>\n",
       "      <th>21</th>\n",
       "      <td>0.222222</td>\n",
       "      <td>0.708333</td>\n",
       "      <td>0.084746</td>\n",
       "      <td>0.125000</td>\n",
       "      <td>0.0</td>\n",
       "    </tr>\n",
       "    <tr>\n",
       "      <th>6</th>\n",
       "      <td>0.083333</td>\n",
       "      <td>0.583333</td>\n",
       "      <td>0.067797</td>\n",
       "      <td>0.083333</td>\n",
       "      <td>0.0</td>\n",
       "    </tr>\n",
       "    <tr>\n",
       "      <th>148</th>\n",
       "      <td>0.527778</td>\n",
       "      <td>0.583333</td>\n",
       "      <td>0.745763</td>\n",
       "      <td>0.916667</td>\n",
       "      <td>2.0</td>\n",
       "    </tr>\n",
       "    <tr>\n",
       "      <th>24</th>\n",
       "      <td>0.138889</td>\n",
       "      <td>0.583333</td>\n",
       "      <td>0.152542</td>\n",
       "      <td>0.041667</td>\n",
       "      <td>0.0</td>\n",
       "    </tr>\n",
       "    <tr>\n",
       "      <th>32</th>\n",
       "      <td>0.250000</td>\n",
       "      <td>0.875000</td>\n",
       "      <td>0.084746</td>\n",
       "      <td>0.000000</td>\n",
       "      <td>0.0</td>\n",
       "    </tr>\n",
       "    <tr>\n",
       "      <th>50</th>\n",
       "      <td>0.750000</td>\n",
       "      <td>0.500000</td>\n",
       "      <td>0.627119</td>\n",
       "      <td>0.541667</td>\n",
       "      <td>1.0</td>\n",
       "    </tr>\n",
       "    <tr>\n",
       "      <th>57</th>\n",
       "      <td>0.166667</td>\n",
       "      <td>0.166667</td>\n",
       "      <td>0.389831</td>\n",
       "      <td>0.375000</td>\n",
       "      <td>1.0</td>\n",
       "    </tr>\n",
       "    <tr>\n",
       "      <th>99</th>\n",
       "      <td>0.388889</td>\n",
       "      <td>0.333333</td>\n",
       "      <td>0.525424</td>\n",
       "      <td>0.500000</td>\n",
       "      <td>1.0</td>\n",
       "    </tr>\n",
       "    <tr>\n",
       "      <th>69</th>\n",
       "      <td>0.361111</td>\n",
       "      <td>0.208333</td>\n",
       "      <td>0.491525</td>\n",
       "      <td>0.416667</td>\n",
       "      <td>1.0</td>\n",
       "    </tr>\n",
       "    <tr>\n",
       "      <th>0</th>\n",
       "      <td>0.222222</td>\n",
       "      <td>0.625000</td>\n",
       "      <td>0.067797</td>\n",
       "      <td>0.041667</td>\n",
       "      <td>0.0</td>\n",
       "    </tr>\n",
       "    <tr>\n",
       "      <th>3</th>\n",
       "      <td>0.083333</td>\n",
       "      <td>0.458333</td>\n",
       "      <td>0.084746</td>\n",
       "      <td>0.041667</td>\n",
       "      <td>0.0</td>\n",
       "    </tr>\n",
       "    <tr>\n",
       "      <th>124</th>\n",
       "      <td>0.666667</td>\n",
       "      <td>0.541667</td>\n",
       "      <td>0.796610</td>\n",
       "      <td>0.833333</td>\n",
       "      <td>2.0</td>\n",
       "    </tr>\n",
       "    <tr>\n",
       "      <th>53</th>\n",
       "      <td>0.333333</td>\n",
       "      <td>0.125000</td>\n",
       "      <td>0.508475</td>\n",
       "      <td>0.500000</td>\n",
       "      <td>1.0</td>\n",
       "    </tr>\n",
       "  </tbody>\n",
       "</table>\n",
       "</div>"
      ],
      "text/plain": [
       "     sepal length (cm)  sepal width (cm)  petal length (cm)  petal width (cm)  target\n",
       "127           0.500000          0.416667           0.661017          0.708333     1.8\n",
       "71            0.500000          0.333333           0.508475          0.500000     1.0\n",
       "118           0.944444          0.250000           1.000000          0.916667     2.0\n",
       "122           0.944444          0.333333           0.966102          0.791667     2.0\n",
       "9             0.166667          0.458333           0.084746          0.000000     0.0\n",
       "109           0.805556          0.666667           0.864407          1.000000     2.0\n",
       "135           0.944444          0.416667           0.864407          0.916667     2.0\n",
       "42            0.027778          0.500000           0.050847          0.041667     0.0\n",
       "67            0.416667          0.291667           0.525424          0.375000     1.0\n",
       "31            0.305556          0.583333           0.084746          0.125000     0.0\n",
       "65            0.666667          0.458333           0.576271          0.541667     1.0\n",
       "90            0.333333          0.250000           0.576271          0.458333     1.0\n",
       "133           0.555556          0.333333           0.694915          0.583333     1.2\n",
       "114           0.416667          0.333333           0.694915          0.958333     2.0\n",
       "25            0.194444          0.416667           0.101695          0.041667     0.0\n",
       "92            0.416667          0.250000           0.508475          0.458333     1.0\n",
       "116           0.611111          0.416667           0.762712          0.708333     1.8\n",
       "104           0.611111          0.416667           0.813559          0.875000     2.0\n",
       "108           0.666667          0.208333           0.813559          0.708333     2.0\n",
       "112           0.694444          0.416667           0.762712          0.833333     2.0\n",
       "80            0.333333          0.166667           0.474576          0.416667     1.0\n",
       "12            0.138889          0.416667           0.067797          0.000000     0.0\n",
       "137           0.583333          0.458333           0.762712          0.708333     1.8\n",
       "129           0.805556          0.416667           0.813559          0.625000     1.6\n",
       "17            0.222222          0.625000           0.067797          0.083333     0.0\n",
       "87            0.555556          0.125000           0.576271          0.500000     1.2\n",
       "76            0.694444          0.333333           0.644068          0.541667     1.0\n",
       "120           0.722222          0.500000           0.796610          0.916667     2.0\n",
       "23            0.222222          0.541667           0.118644          0.166667     0.0\n",
       "79            0.388889          0.250000           0.423729          0.375000     1.0\n",
       "2             0.111111          0.500000           0.050847          0.041667     0.0\n",
       "47            0.083333          0.500000           0.067797          0.041667     0.0\n",
       "21            0.222222          0.708333           0.084746          0.125000     0.0\n",
       "6             0.083333          0.583333           0.067797          0.083333     0.0\n",
       "148           0.527778          0.583333           0.745763          0.916667     2.0\n",
       "24            0.138889          0.583333           0.152542          0.041667     0.0\n",
       "32            0.250000          0.875000           0.084746          0.000000     0.0\n",
       "50            0.750000          0.500000           0.627119          0.541667     1.0\n",
       "57            0.166667          0.166667           0.389831          0.375000     1.0\n",
       "99            0.388889          0.333333           0.525424          0.500000     1.0\n",
       "69            0.361111          0.208333           0.491525          0.416667     1.0\n",
       "0             0.222222          0.625000           0.067797          0.041667     0.0\n",
       "3             0.083333          0.458333           0.084746          0.041667     0.0\n",
       "124           0.666667          0.541667           0.796610          0.833333     2.0\n",
       "53            0.333333          0.125000           0.508475          0.500000     1.0"
      ]
     },
     "execution_count": 21,
     "metadata": {},
     "output_type": "execute_result"
    }
   ],
   "source": [
    "k = 5\n",
    "predicted_knn = knn_algorithm(iris_train, iris_test, k)\n",
    "predicted_knn"
   ]
  },
  {
   "cell_type": "markdown",
   "metadata": {},
   "source": [
    "We want to have a way to evaluate our predictions from the kNN algorithm with $k=5$. One way is to compute the $R^2$ coefficient. Let's create a function for that:"
   ]
  },
  {
   "cell_type": "code",
   "execution_count": 22,
   "metadata": {
    "collapsed": true
   },
   "outputs": [],
   "source": [
    "def evaluate(predicted, true):\n",
    "    # Find the squared error:\n",
    "    squared_error = (predicted['target'] - true['target'])**2\n",
    "    \n",
    "    # Finding the mean squared error:\n",
    "    error_var = squared_error.sum()\n",
    "    sample_var = ((true['target'] - true['target'].mean())**2).sum()\n",
    "    \n",
    "    r = (1 - (error_var / sample_var))\n",
    "    \n",
    "    return r"
   ]
  },
  {
   "cell_type": "markdown",
   "metadata": {},
   "source": [
    "Then let's apply this function to our predictions:"
   ]
  },
  {
   "cell_type": "code",
   "execution_count": 23,
   "metadata": {
    "collapsed": false
   },
   "outputs": [
    {
     "data": {
      "text/plain": [
       "0.96901004304160687"
      ]
     },
     "execution_count": 23,
     "metadata": {},
     "output_type": "execute_result"
    }
   ],
   "source": [
    "evaluate(predicted_knn, iris_test)"
   ]
  },
  {
   "cell_type": "markdown",
   "metadata": {},
   "source": [
    "We see that the coefficient for the Nearest Neighbors implementation with $k=5$ is $R^2 = 0.9745$, which should more or less match what we get with the sklearn package. "
   ]
  },
  {
   "cell_type": "markdown",
   "metadata": {},
   "source": [
    "## Now using sklearn to implement kNN:"
   ]
  },
  {
   "cell_type": "markdown",
   "metadata": {},
   "source": [
    "We will now use the **sklearn** package to implement kNN:\n",
    "\n",
    "Here, we will split our data using the train_test_split function from sklearn."
   ]
  },
  {
   "cell_type": "code",
   "execution_count": 24,
   "metadata": {
    "collapsed": true
   },
   "outputs": [],
   "source": [
    "# Now we can use sklearn's train_test_split function to split our data:\n",
    "train, test =  train_test_split(iris, test_size=.3)\n",
    "\n",
    "x_train, x_test = train[features_cols], test[features_cols]\n",
    "y_train, y_test = train['target'], test['target']"
   ]
  },
  {
   "cell_type": "markdown",
   "metadata": {},
   "source": [
    "Then, we can fit the model and use various metrics to assess our accuracy:"
   ]
  },
  {
   "cell_type": "markdown",
   "metadata": {},
   "source": [
    "We can also introduce a Confusion Matrix:"
   ]
  },
  {
   "cell_type": "code",
   "execution_count": 25,
   "metadata": {
    "collapsed": false
   },
   "outputs": [
    {
     "data": {
      "text/plain": [
       "0.97777777777777775"
      ]
     },
     "execution_count": 25,
     "metadata": {},
     "output_type": "execute_result"
    }
   ],
   "source": [
    "# Set kNN parameter:\n",
    "k = 10\n",
    "\n",
    "# Now we can fit the model, predict our variable of interest, and then evaluate our fit:\n",
    "# First, we create the classifier object:\n",
    "neighbors = KNeighborsClassifier(n_neighbors=k)\n",
    "\n",
    "# Then, we fit the model using x_train as training data and y_train as target values:\n",
    "neighbors.fit(x_train, y_train)\n",
    "\n",
    "# Retreieve our predictions:\n",
    "prediction_knn = neighbors.predict(x_test)\n",
    "\n",
    "# This returns the mean accuracy on the given test data and labels, or in other words, \n",
    "# the R squared value -- A constant model that always predicts the expected value of y, \n",
    "# disregarding the input features, would get a R^2 score of 1.\n",
    "r = neighbors.score(x_test, y_test)\n",
    "r\n"
   ]
  },
  {
   "cell_type": "code",
   "execution_count": 26,
   "metadata": {
    "collapsed": false
   },
   "outputs": [
    {
     "name": "stdout",
     "output_type": "stream",
     "text": [
      "             precision    recall  f1-score   support\n",
      "\n",
      "        0.0       1.00      1.00      1.00        12\n",
      "        1.0       1.00      0.94      0.97        17\n",
      "        2.0       0.94      1.00      0.97        16\n",
      "\n",
      "avg / total       0.98      0.98      0.98        45\n",
      "\n"
     ]
    }
   ],
   "source": [
    "expected_knn = y_test\n",
    "predicted_knn = neighbors.predict(x_test)\n",
    "print(metrics.classification_report(expected_knn, predicted_knn))"
   ]
  },
  {
   "cell_type": "code",
   "execution_count": 27,
   "metadata": {
    "collapsed": false
   },
   "outputs": [
    {
     "data": {
      "text/html": [
       "<div>\n",
       "<table border=\"1\" class=\"dataframe\">\n",
       "  <thead>\n",
       "    <tr style=\"text-align: right;\">\n",
       "      <th></th>\n",
       "      <th>0</th>\n",
       "      <th>1</th>\n",
       "      <th>2</th>\n",
       "    </tr>\n",
       "  </thead>\n",
       "  <tbody>\n",
       "    <tr>\n",
       "      <th>0</th>\n",
       "      <td>12</td>\n",
       "      <td>0</td>\n",
       "      <td>0</td>\n",
       "    </tr>\n",
       "    <tr>\n",
       "      <th>1</th>\n",
       "      <td>0</td>\n",
       "      <td>16</td>\n",
       "      <td>1</td>\n",
       "    </tr>\n",
       "    <tr>\n",
       "      <th>2</th>\n",
       "      <td>0</td>\n",
       "      <td>0</td>\n",
       "      <td>16</td>\n",
       "    </tr>\n",
       "  </tbody>\n",
       "</table>\n",
       "</div>"
      ],
      "text/plain": [
       "    0   1   2\n",
       "0  12   0   0\n",
       "1   0  16   1\n",
       "2   0   0  16"
      ]
     },
     "execution_count": 27,
     "metadata": {},
     "output_type": "execute_result"
    }
   ],
   "source": [
    "pd.DataFrame(metrics.confusion_matrix(expected_knn, predicted_knn))"
   ]
  },
  {
   "cell_type": "markdown",
   "metadata": {},
   "source": [
    "In the above, 4 flowers belonging to class 3 were mis-classified as class 2, while 2 flowers of class 2 were mis-classified as class 3. A confusion matrix allows us to view where our inaccurate predictions lie in a simple \"snapshot\" style matrix."
   ]
  },
  {
   "cell_type": "markdown",
   "metadata": {},
   "source": [
    "# Linear and Polynomial Regression"
   ]
  },
  {
   "cell_type": "markdown",
   "metadata": {},
   "source": [
    "We just went over the kNN prediction method. Now, we will fit the same data, but onto linear and polynomial regressions."
   ]
  },
  {
   "cell_type": "markdown",
   "metadata": {},
   "source": [
    "## Linear Regression:"
   ]
  },
  {
   "cell_type": "markdown",
   "metadata": {},
   "source": [
    "We will use the training/testing dataset as before and create our linear regression objects."
   ]
  },
  {
   "cell_type": "code",
   "execution_count": 28,
   "metadata": {
    "collapsed": false
   },
   "outputs": [
    {
     "name": "stdout",
     "output_type": "stream",
     "text": [
      "[-0.30963917 -0.24697997  1.32772919  1.38804501]\n"
     ]
    },
    {
     "name": "stderr",
     "output_type": "stream",
     "text": [
      "/usr/local/lib/python3.6/site-packages/scipy/linalg/basic.py:1018: RuntimeWarning: internal gelsd driver lwork query error, required iwork dimension not returned. This is likely the result of LAPACK bug 0038, fixed in LAPACK 3.2.2 (released July 21, 2010). Falling back to 'gelss' driver.\n",
      "  warnings.warn(mesg, RuntimeWarning)\n"
     ]
    }
   ],
   "source": [
    "from statsmodels.api import OLS\n",
    "# We must first create the linear regression object from sklearn:\n",
    "regr = LinearRegression()\n",
    "# Then, we will put in the training sets in for the .fit() function:\n",
    "regr.fit(x_train, y_train)\n",
    "# This prints the regression coefficients of our model:\n",
    "print(regr.coef_)"
   ]
  },
  {
   "cell_type": "code",
   "execution_count": 29,
   "metadata": {
    "collapsed": false
   },
   "outputs": [
    {
     "data": {
      "text/plain": [
       "sepal length (cm)   -0.298224\n",
       "sepal width (cm)    -0.272424\n",
       "petal length (cm)    1.287064\n",
       "petal width (cm)     1.408625\n",
       "dtype: float64"
      ]
     },
     "execution_count": 29,
     "metadata": {},
     "output_type": "execute_result"
    }
   ],
   "source": [
    "import statsmodels.api as sm\n",
    "# We must first create the linear regression object from stats model:\n",
    "model = sm.OLS(y_train.values, x_train)\n",
    "regr = model.fit()\n",
    "# This prints the regression coefficients of our model:\n",
    "regr.params"
   ]
  },
  {
   "cell_type": "markdown",
   "metadata": {},
   "source": [
    "Now, we will compute metrics that can be used to assess fit:"
   ]
  },
  {
   "cell_type": "code",
   "execution_count": 30,
   "metadata": {
    "collapsed": false
   },
   "outputs": [
    {
     "data": {
      "text/plain": [
       "0.044610368199549034"
      ]
     },
     "execution_count": 30,
     "metadata": {},
     "output_type": "execute_result"
    }
   ],
   "source": [
    "# To compute the mean squared error (notice that we are now using the TEST set):\n",
    "np.mean((regr.predict(x_test)-y_test)**2)"
   ]
  },
  {
   "cell_type": "code",
   "execution_count": 31,
   "metadata": {
    "collapsed": false
   },
   "outputs": [
    {
     "data": {
      "text/html": [
       "<table class=\"simpletable\">\n",
       "<caption>OLS Regression Results</caption>\n",
       "<tr>\n",
       "  <th>Dep. Variable:</th>            <td>y</td>        <th>  R-squared:         </th> <td>   0.970</td>\n",
       "</tr>\n",
       "<tr>\n",
       "  <th>Model:</th>                   <td>OLS</td>       <th>  Adj. R-squared:    </th> <td>   0.969</td>\n",
       "</tr>\n",
       "<tr>\n",
       "  <th>Method:</th>             <td>Least Squares</td>  <th>  F-statistic:       </th> <td>   821.3</td>\n",
       "</tr>\n",
       "<tr>\n",
       "  <th>Date:</th>             <td>Mon, 25 Sep 2017</td> <th>  Prob (F-statistic):</th> <td>4.65e-76</td>\n",
       "</tr>\n",
       "<tr>\n",
       "  <th>Time:</th>                 <td>14:07:00</td>     <th>  Log-Likelihood:    </th> <td>  10.421</td>\n",
       "</tr>\n",
       "<tr>\n",
       "  <th>No. Observations:</th>      <td>   105</td>      <th>  AIC:               </th> <td>  -12.84</td>\n",
       "</tr>\n",
       "<tr>\n",
       "  <th>Df Residuals:</th>          <td>   101</td>      <th>  BIC:               </th> <td>  -2.225</td>\n",
       "</tr>\n",
       "<tr>\n",
       "  <th>Df Model:</th>              <td>     4</td>      <th>                     </th>     <td> </td>   \n",
       "</tr>\n",
       "<tr>\n",
       "  <th>Covariance Type:</th>      <td>nonrobust</td>    <th>                     </th>     <td> </td>   \n",
       "</tr>\n",
       "</table>\n",
       "<table class=\"simpletable\">\n",
       "<tr>\n",
       "          <td></td>             <th>coef</th>     <th>std err</th>      <th>t</th>      <th>P>|t|</th>  <th>[0.025</th>    <th>0.975]</th>  \n",
       "</tr>\n",
       "<tr>\n",
       "  <th>sepal length (cm)</th> <td>   -0.2982</td> <td>    0.252</td> <td>   -1.183</td> <td> 0.240</td> <td>   -0.798</td> <td>    0.202</td>\n",
       "</tr>\n",
       "<tr>\n",
       "  <th>sepal width (cm)</th>  <td>   -0.2724</td> <td>    0.088</td> <td>   -3.091</td> <td> 0.003</td> <td>   -0.447</td> <td>   -0.098</td>\n",
       "</tr>\n",
       "<tr>\n",
       "  <th>petal length (cm)</th> <td>    1.2871</td> <td>    0.328</td> <td>    3.927</td> <td> 0.000</td> <td>    0.637</td> <td>    1.937</td>\n",
       "</tr>\n",
       "<tr>\n",
       "  <th>petal width (cm)</th>  <td>    1.4086</td> <td>    0.261</td> <td>    5.388</td> <td> 0.000</td> <td>    0.890</td> <td>    1.927</td>\n",
       "</tr>\n",
       "</table>\n",
       "<table class=\"simpletable\">\n",
       "<tr>\n",
       "  <th>Omnibus:</th>       <td> 0.567</td> <th>  Durbin-Watson:     </th> <td>   1.913</td>\n",
       "</tr>\n",
       "<tr>\n",
       "  <th>Prob(Omnibus):</th> <td> 0.753</td> <th>  Jarque-Bera (JB):  </th> <td>   0.212</td>\n",
       "</tr>\n",
       "<tr>\n",
       "  <th>Skew:</th>          <td>-0.056</td> <th>  Prob(JB):          </th> <td>   0.900</td>\n",
       "</tr>\n",
       "<tr>\n",
       "  <th>Kurtosis:</th>      <td> 3.189</td> <th>  Cond. No.          </th> <td>    18.4</td>\n",
       "</tr>\n",
       "</table>"
      ],
      "text/plain": [
       "<class 'statsmodels.iolib.summary.Summary'>\n",
       "\"\"\"\n",
       "                            OLS Regression Results                            \n",
       "==============================================================================\n",
       "Dep. Variable:                      y   R-squared:                       0.970\n",
       "Model:                            OLS   Adj. R-squared:                  0.969\n",
       "Method:                 Least Squares   F-statistic:                     821.3\n",
       "Date:                Mon, 25 Sep 2017   Prob (F-statistic):           4.65e-76\n",
       "Time:                        14:07:00   Log-Likelihood:                 10.421\n",
       "No. Observations:                 105   AIC:                            -12.84\n",
       "Df Residuals:                     101   BIC:                            -2.225\n",
       "Df Model:                           4                                         \n",
       "Covariance Type:            nonrobust                                         \n",
       "=====================================================================================\n",
       "                        coef    std err          t      P>|t|      [0.025      0.975]\n",
       "-------------------------------------------------------------------------------------\n",
       "sepal length (cm)    -0.2982      0.252     -1.183      0.240      -0.798       0.202\n",
       "sepal width (cm)     -0.2724      0.088     -3.091      0.003      -0.447      -0.098\n",
       "petal length (cm)     1.2871      0.328      3.927      0.000       0.637       1.937\n",
       "petal width (cm)      1.4086      0.261      5.388      0.000       0.890       1.927\n",
       "==============================================================================\n",
       "Omnibus:                        0.567   Durbin-Watson:                   1.913\n",
       "Prob(Omnibus):                  0.753   Jarque-Bera (JB):                0.212\n",
       "Skew:                          -0.056   Prob(JB):                        0.900\n",
       "Kurtosis:                       3.189   Cond. No.                         18.4\n",
       "==============================================================================\n",
       "\n",
       "Warnings:\n",
       "[1] Standard Errors assume that the covariance matrix of the errors is correctly specified.\n",
       "\"\"\""
      ]
     },
     "execution_count": 31,
     "metadata": {},
     "output_type": "execute_result"
    }
   ],
   "source": [
    "regr.summary()"
   ]
  },
  {
   "cell_type": "markdown",
   "metadata": {},
   "source": [
    "## Instead of focusing on $R^2$, let’s look at the classification stats.."
   ]
  },
  {
   "cell_type": "code",
   "execution_count": 32,
   "metadata": {
    "collapsed": false
   },
   "outputs": [
    {
     "name": "stdout",
     "output_type": "stream",
     "text": [
      "             precision    recall  f1-score   support\n",
      "\n",
      "        0.0       1.00      1.00      1.00        12\n",
      "        1.0       1.00      1.00      1.00        17\n",
      "        2.0       1.00      1.00      1.00        16\n",
      "\n",
      "avg / total       1.00      1.00      1.00        45\n",
      "\n"
     ]
    }
   ],
   "source": [
    "predicted_knn = np.round(regr.predict(x_test))\n",
    "print(metrics.classification_report(expected_knn, predicted_knn))"
   ]
  },
  {
   "cell_type": "code",
   "execution_count": 33,
   "metadata": {
    "collapsed": false
   },
   "outputs": [
    {
     "data": {
      "text/html": [
       "<div>\n",
       "<table border=\"1\" class=\"dataframe\">\n",
       "  <thead>\n",
       "    <tr style=\"text-align: right;\">\n",
       "      <th></th>\n",
       "      <th>0</th>\n",
       "      <th>1</th>\n",
       "      <th>2</th>\n",
       "    </tr>\n",
       "  </thead>\n",
       "  <tbody>\n",
       "    <tr>\n",
       "      <th>0</th>\n",
       "      <td>12</td>\n",
       "      <td>0</td>\n",
       "      <td>0</td>\n",
       "    </tr>\n",
       "    <tr>\n",
       "      <th>1</th>\n",
       "      <td>0</td>\n",
       "      <td>17</td>\n",
       "      <td>0</td>\n",
       "    </tr>\n",
       "    <tr>\n",
       "      <th>2</th>\n",
       "      <td>0</td>\n",
       "      <td>0</td>\n",
       "      <td>16</td>\n",
       "    </tr>\n",
       "  </tbody>\n",
       "</table>\n",
       "</div>"
      ],
      "text/plain": [
       "    0   1   2\n",
       "0  12   0   0\n",
       "1   0  17   0\n",
       "2   0   0  16"
      ]
     },
     "execution_count": 33,
     "metadata": {},
     "output_type": "execute_result"
    }
   ],
   "source": [
    "pd.DataFrame(metrics.confusion_matrix(expected_knn, predicted_knn))"
   ]
  },
  {
   "cell_type": "markdown",
   "metadata": {},
   "source": [
    "## Polynomial Regression\n"
   ]
  },
  {
   "cell_type": "markdown",
   "metadata": {},
   "source": [
    "Polynomial regression is useful when you suspect a non-linear relationship between the predictor variables $x$ and the conditional expectation of $y$. Specifically, it is a special case of linear regression where the predictor variables are modeled through an $n$th degree polynomial. In Python, we can create the polynomial features through scikit-learn's PolynomialFeatures package. Then, we can use linear regression to implement a polynomial regression model. "
   ]
  },
  {
   "cell_type": "markdown",
   "metadata": {},
   "source": [
    "We first need to create the PolynomialFeatures object and specify to what degree we wish to take our polynomial to:"
   ]
  },
  {
   "cell_type": "code",
   "execution_count": 34,
   "metadata": {
    "collapsed": false
   },
   "outputs": [
    {
     "data": {
      "text/plain": [
       "(105, 15)"
      ]
     },
     "execution_count": 34,
     "metadata": {},
     "output_type": "execute_result"
    }
   ],
   "source": [
    "# Create the PolynomialFeatures object and specify the number of degrees:\n",
    "degree = 2\n",
    "poly = PolynomialFeatures(degree)\n",
    "\n",
    "x_train_poly = poly.fit_transform(x_train)\n",
    "x_test_poly = poly.fit_transform(x_test)\n",
    "pd.DataFrame(x_train_poly).shape"
   ]
  },
  {
   "cell_type": "code",
   "execution_count": 35,
   "metadata": {
    "collapsed": false
   },
   "outputs": [
    {
     "data": {
      "text/plain": [
       "array([ 0.        , -1.77794261,  0.5344574 ,  1.62004108,  1.60516847,\n",
       "       -4.2616297 ,  6.20878203,  1.47849795,  3.41352618, -1.40556121,\n",
       "       -2.37861104, -3.37263167,  2.83611552, -4.26639546,  1.66077366])"
      ]
     },
     "execution_count": 35,
     "metadata": {},
     "output_type": "execute_result"
    }
   ],
   "source": [
    "# Create a linear regression object\n",
    "lg = LinearRegression()\n",
    "\n",
    "# Fit our training data with polynomial features \n",
    "lg.fit(x_train_poly, y_train)\n",
    "\n",
    "# Obtain coefficients\n",
    "lg.coef_"
   ]
  },
  {
   "cell_type": "markdown",
   "metadata": {},
   "source": [
    "Now we can also do prediction:"
   ]
  },
  {
   "cell_type": "code",
   "execution_count": 36,
   "metadata": {
    "collapsed": false
   },
   "outputs": [
    {
     "data": {
      "text/plain": [
       "array([  2.09577754e+00,   1.90835421e+00,   1.45185038e+00,\n",
       "         2.03677712e+00,   1.68743917e+00,   8.34690888e-01,\n",
       "         1.84906220e-03,   1.90112222e+00,   1.94927752e+00,\n",
       "         1.69878469e+00,   9.44551906e-01,   1.11378354e+00,\n",
       "         1.10591494e+00,   1.30116059e+00,   6.83559514e-02,\n",
       "         9.71753452e-01,  -3.47377418e-03,  -3.93921073e-02,\n",
       "         1.83211877e+00,   1.51806934e+00,   1.29025790e+00,\n",
       "         8.81368762e-01,  -2.07134586e-01,   1.45026153e+00,\n",
       "         3.39345674e-02,  -3.24850749e-02,   1.21017198e+00,\n",
       "         2.67289192e-02,   1.23155033e+00,   1.63250726e+00,\n",
       "         9.20497512e-01,   4.42060824e-02,   1.78149121e+00,\n",
       "         1.58456258e-02,   1.11530451e+00,   1.61879224e+00,\n",
       "         1.87089563e+00,   1.17073907e+00,   1.65674335e+00,\n",
       "        -1.03710559e-01,  -2.31597971e-02,   1.89068541e+00,\n",
       "         9.62671357e-01,   9.55948793e-01,   1.22783302e+00])"
      ]
     },
     "execution_count": 36,
     "metadata": {},
     "output_type": "execute_result"
    }
   ],
   "source": [
    "# Predict from our fitted polynomial regression model based on our test set. \n",
    "poly.predicted = lg.predict(x_test_poly)\n",
    "poly.predicted"
   ]
  },
  {
   "cell_type": "code",
   "execution_count": 37,
   "metadata": {
    "collapsed": false
   },
   "outputs": [
    {
     "data": {
      "text/plain": [
       "0.043769968318254686"
      ]
     },
     "execution_count": 37,
     "metadata": {},
     "output_type": "execute_result"
    }
   ],
   "source": [
    "# Computer the Mean Squared Error for Polynomial Regression:\n",
    "np.mean((poly.predicted-y_test)**2)"
   ]
  },
  {
   "cell_type": "code",
   "execution_count": 38,
   "metadata": {
    "collapsed": false
   },
   "outputs": [
    {
     "name": "stdout",
     "output_type": "stream",
     "text": [
      "             precision    recall  f1-score   support\n",
      "\n",
      "        0.0       1.00      1.00      1.00        12\n",
      "        1.0       0.94      1.00      0.97        17\n",
      "        2.0       1.00      0.94      0.97        16\n",
      "\n",
      "avg / total       0.98      0.98      0.98        45\n",
      "\n"
     ]
    }
   ],
   "source": [
    "predicted_knn = np.round(poly.predicted)\n",
    "print(metrics.classification_report(expected_knn, predicted_knn))"
   ]
  },
  {
   "cell_type": "code",
   "execution_count": 39,
   "metadata": {
    "collapsed": false
   },
   "outputs": [
    {
     "data": {
      "text/html": [
       "<div>\n",
       "<table border=\"1\" class=\"dataframe\">\n",
       "  <thead>\n",
       "    <tr style=\"text-align: right;\">\n",
       "      <th></th>\n",
       "      <th>0</th>\n",
       "      <th>1</th>\n",
       "      <th>2</th>\n",
       "    </tr>\n",
       "  </thead>\n",
       "  <tbody>\n",
       "    <tr>\n",
       "      <th>0</th>\n",
       "      <td>12</td>\n",
       "      <td>0</td>\n",
       "      <td>0</td>\n",
       "    </tr>\n",
       "    <tr>\n",
       "      <th>1</th>\n",
       "      <td>0</td>\n",
       "      <td>17</td>\n",
       "      <td>0</td>\n",
       "    </tr>\n",
       "    <tr>\n",
       "      <th>2</th>\n",
       "      <td>0</td>\n",
       "      <td>1</td>\n",
       "      <td>15</td>\n",
       "    </tr>\n",
       "  </tbody>\n",
       "</table>\n",
       "</div>"
      ],
      "text/plain": [
       "    0   1   2\n",
       "0  12   0   0\n",
       "1   0  17   0\n",
       "2   0   1  15"
      ]
     },
     "execution_count": 39,
     "metadata": {},
     "output_type": "execute_result"
    }
   ],
   "source": [
    "pd.DataFrame(metrics.confusion_matrix(expected_knn, predicted_knn))"
   ]
  }
 ],
 "metadata": {
  "anaconda-cloud": {},
  "kernelspec": {
   "display_name": "Python 3",
   "language": "python",
   "name": "python3"
  },
  "language_info": {
   "codemirror_mode": {
    "name": "ipython",
    "version": 3
   },
   "file_extension": ".py",
   "mimetype": "text/x-python",
   "name": "python",
   "nbconvert_exporter": "python",
   "pygments_lexer": "ipython3",
   "version": "3.6.1"
  }
 },
 "nbformat": 4,
 "nbformat_minor": 1
}
